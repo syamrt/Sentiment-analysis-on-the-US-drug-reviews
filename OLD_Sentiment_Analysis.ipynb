{
  "cells": [
    {
      "cell_type": "markdown",
      "metadata": {
        "id": "d273469a"
      },
      "source": [
        "# <center> Title </center>"
      ],
      "id": "d273469a"
    },
    {
      "cell_type": "markdown",
      "metadata": {
        "id": "fe6205ea"
      },
      "source": [
        "## About the Notebook"
      ],
      "id": "fe6205ea"
    },
    {
      "cell_type": "code",
      "execution_count": null,
      "metadata": {
        "id": "8c3a96e3"
      },
      "outputs": [],
      "source": [],
      "id": "8c3a96e3"
    },
    {
      "cell_type": "markdown",
      "metadata": {
        "id": "5364da96"
      },
      "source": [
        "## The Dataset Description"
      ],
      "id": "5364da96"
    },
    {
      "cell_type": "code",
      "execution_count": null,
      "metadata": {
        "id": "7d4acfa3"
      },
      "outputs": [],
      "source": [],
      "id": "7d4acfa3"
    },
    {
      "cell_type": "markdown",
      "metadata": {
        "id": "5716d414"
      },
      "source": [
        "# Set Up Google Environment"
      ],
      "id": "5716d414"
    },
    {
      "cell_type": "code",
      "execution_count": null,
      "metadata": {
        "colab": {
          "base_uri": "https://localhost:8080/"
        },
        "id": "ae9a7f14",
        "outputId": "6f9d8e78-7d8a-42c7-c05c-7de776293d55"
      },
      "outputs": [
        {
          "output_type": "stream",
          "name": "stdout",
          "text": [
            "Mounted at /content/drive\n"
          ]
        }
      ],
      "source": [
        "from google.colab import drive\n",
        "drive.mount('/content/drive')\n",
        "\n"
      ],
      "id": "ae9a7f14"
    },
    {
      "cell_type": "code",
      "execution_count": null,
      "metadata": {
        "id": "5JDDTCLEmpv1"
      },
      "outputs": [],
      "source": [
        "path = '/content/drive/Shareddrives/ML 245/Dataset'"
      ],
      "id": "5JDDTCLEmpv1"
    },
    {
      "cell_type": "markdown",
      "metadata": {
        "id": "6c62aece"
      },
      "source": [
        "# Loading Libraries"
      ],
      "id": "6c62aece"
    },
    {
      "cell_type": "code",
      "execution_count": null,
      "metadata": {
        "id": "b425144e"
      },
      "outputs": [],
      "source": [
        "import pandas as pd\n",
        "from textblob import TextBlob"
      ],
      "id": "b425144e"
    },
    {
      "cell_type": "markdown",
      "metadata": {
        "id": "mOpGlYimm1q2"
      },
      "source": [
        "# Setting Up Pandas Options\n"
      ],
      "id": "mOpGlYimm1q2"
    },
    {
      "cell_type": "code",
      "execution_count": null,
      "metadata": {
        "id": "hh-Z44Ywm9Zb"
      },
      "outputs": [],
      "source": [
        "#Setting Display option for rows & columns\n",
        "pd.set_option('display.max_columns', 10)\n",
        "pd.set_option('display.max_rows', 10)\n",
        "pd.set_option('display.min_rows', 5)\n",
        "pd.set_option('display.expand_frame_repr', True)"
      ],
      "id": "hh-Z44Ywm9Zb"
    },
    {
      "cell_type": "markdown",
      "metadata": {
        "id": "ht5hTfMoNmuC"
      },
      "source": [
        "# Loading Data"
      ],
      "id": "ht5hTfMoNmuC"
    },
    {
      "cell_type": "code",
      "execution_count": null,
      "metadata": {
        "id": "WXBt-eZ8FCMv"
      },
      "outputs": [],
      "source": [
        "data = pd.read_csv (path+'/Drug_Dataset.csv', index_col =\"uniqueID\")\n"
      ],
      "id": "WXBt-eZ8FCMv"
    },
    {
      "cell_type": "code",
      "execution_count": null,
      "metadata": {
        "colab": {
          "base_uri": "https://localhost:8080/",
          "height": 237
        },
        "id": "UxJfjgK6FCQQ",
        "outputId": "d0e7be87-3214-4b07-89da-d10214ef8c59"
      },
      "outputs": [
        {
          "output_type": "execute_result",
          "data": {
            "text/plain": [
              "                   Table Names         drugName                     condition  \\\n",
              "uniqueID                                                                        \n",
              "163740    drugsComTest_raw.csv      Mirtazapine                    Depression   \n",
              "206473    drugsComTest_raw.csv       Mesalamine  Crohn's Disease, Maintenance   \n",
              "159672    drugsComTest_raw.csv          Bactrim       Urinary Tract Infection   \n",
              "39293     drugsComTest_raw.csv         Contrave                   Weight Loss   \n",
              "97768     drugsComTest_raw.csv  Cyclafem 1 / 35                 Birth Control   \n",
              "\n",
              "                                                     review  rating  \\\n",
              "uniqueID                                                              \n",
              "163740    \"I&#039;ve tried a few antidepressants over th...      10   \n",
              "206473    \"My son has Crohn&#039;s disease and has done ...       8   \n",
              "159672                        \"Quick reduction of symptoms\"       9   \n",
              "39293     \"Contrave combines drugs that were used for al...       9   \n",
              "97768     \"I have been on this birth control for one cyc...       9   \n",
              "\n",
              "                date  usefulCount  \n",
              "uniqueID                           \n",
              "163740     2/28/2012           22  \n",
              "206473     5/17/2009           17  \n",
              "159672     9/29/2017            3  \n",
              "39293       3/5/2017           35  \n",
              "97768     10/22/2015            4  "
            ],
            "text/html": [
              "\n",
              "  <div id=\"df-7310ee18-4c23-4a78-b058-68beda444107\">\n",
              "    <div class=\"colab-df-container\">\n",
              "      <div>\n",
              "<style scoped>\n",
              "    .dataframe tbody tr th:only-of-type {\n",
              "        vertical-align: middle;\n",
              "    }\n",
              "\n",
              "    .dataframe tbody tr th {\n",
              "        vertical-align: top;\n",
              "    }\n",
              "\n",
              "    .dataframe thead th {\n",
              "        text-align: right;\n",
              "    }\n",
              "</style>\n",
              "<table border=\"1\" class=\"dataframe\">\n",
              "  <thead>\n",
              "    <tr style=\"text-align: right;\">\n",
              "      <th></th>\n",
              "      <th>Table Names</th>\n",
              "      <th>drugName</th>\n",
              "      <th>condition</th>\n",
              "      <th>review</th>\n",
              "      <th>rating</th>\n",
              "      <th>date</th>\n",
              "      <th>usefulCount</th>\n",
              "    </tr>\n",
              "    <tr>\n",
              "      <th>uniqueID</th>\n",
              "      <th></th>\n",
              "      <th></th>\n",
              "      <th></th>\n",
              "      <th></th>\n",
              "      <th></th>\n",
              "      <th></th>\n",
              "      <th></th>\n",
              "    </tr>\n",
              "  </thead>\n",
              "  <tbody>\n",
              "    <tr>\n",
              "      <th>163740</th>\n",
              "      <td>drugsComTest_raw.csv</td>\n",
              "      <td>Mirtazapine</td>\n",
              "      <td>Depression</td>\n",
              "      <td>\"I&amp;#039;ve tried a few antidepressants over th...</td>\n",
              "      <td>10</td>\n",
              "      <td>2/28/2012</td>\n",
              "      <td>22</td>\n",
              "    </tr>\n",
              "    <tr>\n",
              "      <th>206473</th>\n",
              "      <td>drugsComTest_raw.csv</td>\n",
              "      <td>Mesalamine</td>\n",
              "      <td>Crohn's Disease, Maintenance</td>\n",
              "      <td>\"My son has Crohn&amp;#039;s disease and has done ...</td>\n",
              "      <td>8</td>\n",
              "      <td>5/17/2009</td>\n",
              "      <td>17</td>\n",
              "    </tr>\n",
              "    <tr>\n",
              "      <th>159672</th>\n",
              "      <td>drugsComTest_raw.csv</td>\n",
              "      <td>Bactrim</td>\n",
              "      <td>Urinary Tract Infection</td>\n",
              "      <td>\"Quick reduction of symptoms\"</td>\n",
              "      <td>9</td>\n",
              "      <td>9/29/2017</td>\n",
              "      <td>3</td>\n",
              "    </tr>\n",
              "    <tr>\n",
              "      <th>39293</th>\n",
              "      <td>drugsComTest_raw.csv</td>\n",
              "      <td>Contrave</td>\n",
              "      <td>Weight Loss</td>\n",
              "      <td>\"Contrave combines drugs that were used for al...</td>\n",
              "      <td>9</td>\n",
              "      <td>3/5/2017</td>\n",
              "      <td>35</td>\n",
              "    </tr>\n",
              "    <tr>\n",
              "      <th>97768</th>\n",
              "      <td>drugsComTest_raw.csv</td>\n",
              "      <td>Cyclafem 1 / 35</td>\n",
              "      <td>Birth Control</td>\n",
              "      <td>\"I have been on this birth control for one cyc...</td>\n",
              "      <td>9</td>\n",
              "      <td>10/22/2015</td>\n",
              "      <td>4</td>\n",
              "    </tr>\n",
              "  </tbody>\n",
              "</table>\n",
              "</div>\n",
              "      <button class=\"colab-df-convert\" onclick=\"convertToInteractive('df-7310ee18-4c23-4a78-b058-68beda444107')\"\n",
              "              title=\"Convert this dataframe to an interactive table.\"\n",
              "              style=\"display:none;\">\n",
              "        \n",
              "  <svg xmlns=\"http://www.w3.org/2000/svg\" height=\"24px\"viewBox=\"0 0 24 24\"\n",
              "       width=\"24px\">\n",
              "    <path d=\"M0 0h24v24H0V0z\" fill=\"none\"/>\n",
              "    <path d=\"M18.56 5.44l.94 2.06.94-2.06 2.06-.94-2.06-.94-.94-2.06-.94 2.06-2.06.94zm-11 1L8.5 8.5l.94-2.06 2.06-.94-2.06-.94L8.5 2.5l-.94 2.06-2.06.94zm10 10l.94 2.06.94-2.06 2.06-.94-2.06-.94-.94-2.06-.94 2.06-2.06.94z\"/><path d=\"M17.41 7.96l-1.37-1.37c-.4-.4-.92-.59-1.43-.59-.52 0-1.04.2-1.43.59L10.3 9.45l-7.72 7.72c-.78.78-.78 2.05 0 2.83L4 21.41c.39.39.9.59 1.41.59.51 0 1.02-.2 1.41-.59l7.78-7.78 2.81-2.81c.8-.78.8-2.07 0-2.86zM5.41 20L4 18.59l7.72-7.72 1.47 1.35L5.41 20z\"/>\n",
              "  </svg>\n",
              "      </button>\n",
              "      \n",
              "  <style>\n",
              "    .colab-df-container {\n",
              "      display:flex;\n",
              "      flex-wrap:wrap;\n",
              "      gap: 12px;\n",
              "    }\n",
              "\n",
              "    .colab-df-convert {\n",
              "      background-color: #E8F0FE;\n",
              "      border: none;\n",
              "      border-radius: 50%;\n",
              "      cursor: pointer;\n",
              "      display: none;\n",
              "      fill: #1967D2;\n",
              "      height: 32px;\n",
              "      padding: 0 0 0 0;\n",
              "      width: 32px;\n",
              "    }\n",
              "\n",
              "    .colab-df-convert:hover {\n",
              "      background-color: #E2EBFA;\n",
              "      box-shadow: 0px 1px 2px rgba(60, 64, 67, 0.3), 0px 1px 3px 1px rgba(60, 64, 67, 0.15);\n",
              "      fill: #174EA6;\n",
              "    }\n",
              "\n",
              "    [theme=dark] .colab-df-convert {\n",
              "      background-color: #3B4455;\n",
              "      fill: #D2E3FC;\n",
              "    }\n",
              "\n",
              "    [theme=dark] .colab-df-convert:hover {\n",
              "      background-color: #434B5C;\n",
              "      box-shadow: 0px 1px 3px 1px rgba(0, 0, 0, 0.15);\n",
              "      filter: drop-shadow(0px 1px 2px rgba(0, 0, 0, 0.3));\n",
              "      fill: #FFFFFF;\n",
              "    }\n",
              "  </style>\n",
              "\n",
              "      <script>\n",
              "        const buttonEl =\n",
              "          document.querySelector('#df-7310ee18-4c23-4a78-b058-68beda444107 button.colab-df-convert');\n",
              "        buttonEl.style.display =\n",
              "          google.colab.kernel.accessAllowed ? 'block' : 'none';\n",
              "\n",
              "        async function convertToInteractive(key) {\n",
              "          const element = document.querySelector('#df-7310ee18-4c23-4a78-b058-68beda444107');\n",
              "          const dataTable =\n",
              "            await google.colab.kernel.invokeFunction('convertToInteractive',\n",
              "                                                     [key], {});\n",
              "          if (!dataTable) return;\n",
              "\n",
              "          const docLinkHtml = 'Like what you see? Visit the ' +\n",
              "            '<a target=\"_blank\" href=https://colab.research.google.com/notebooks/data_table.ipynb>data table notebook</a>'\n",
              "            + ' to learn more about interactive tables.';\n",
              "          element.innerHTML = '';\n",
              "          dataTable['output_type'] = 'display_data';\n",
              "          await google.colab.output.renderOutput(dataTable, element);\n",
              "          const docLink = document.createElement('div');\n",
              "          docLink.innerHTML = docLinkHtml;\n",
              "          element.appendChild(docLink);\n",
              "        }\n",
              "      </script>\n",
              "    </div>\n",
              "  </div>\n",
              "  "
            ]
          },
          "metadata": {},
          "execution_count": 37
        }
      ],
      "source": [
        "data.head()"
      ],
      "id": "UxJfjgK6FCQQ"
    },
    {
      "cell_type": "markdown",
      "metadata": {
        "id": "b8042099"
      },
      "source": [
        "# Data Exploration"
      ],
      "id": "b8042099"
    },
    {
      "cell_type": "code",
      "execution_count": null,
      "metadata": {
        "colab": {
          "base_uri": "https://localhost:8080/",
          "height": 300
        },
        "id": "3a6e7edd",
        "outputId": "d391dbb2-16de-4fb5-e7a2-e8359cb56f0c"
      },
      "outputs": [
        {
          "output_type": "execute_result",
          "data": {
            "text/plain": [
              "              rating    usefulCount\n",
              "count  215063.000000  215063.000000\n",
              "mean        6.990008      28.001004\n",
              "std         3.275554      36.346069\n",
              "min         1.000000       0.000000\n",
              "25%         5.000000       6.000000\n",
              "50%         8.000000      16.000000\n",
              "75%        10.000000      36.000000\n",
              "max        10.000000    1291.000000"
            ],
            "text/html": [
              "\n",
              "  <div id=\"df-fb6405a8-3251-4b94-be6b-a8d15ef6e8bf\">\n",
              "    <div class=\"colab-df-container\">\n",
              "      <div>\n",
              "<style scoped>\n",
              "    .dataframe tbody tr th:only-of-type {\n",
              "        vertical-align: middle;\n",
              "    }\n",
              "\n",
              "    .dataframe tbody tr th {\n",
              "        vertical-align: top;\n",
              "    }\n",
              "\n",
              "    .dataframe thead th {\n",
              "        text-align: right;\n",
              "    }\n",
              "</style>\n",
              "<table border=\"1\" class=\"dataframe\">\n",
              "  <thead>\n",
              "    <tr style=\"text-align: right;\">\n",
              "      <th></th>\n",
              "      <th>rating</th>\n",
              "      <th>usefulCount</th>\n",
              "    </tr>\n",
              "  </thead>\n",
              "  <tbody>\n",
              "    <tr>\n",
              "      <th>count</th>\n",
              "      <td>215063.000000</td>\n",
              "      <td>215063.000000</td>\n",
              "    </tr>\n",
              "    <tr>\n",
              "      <th>mean</th>\n",
              "      <td>6.990008</td>\n",
              "      <td>28.001004</td>\n",
              "    </tr>\n",
              "    <tr>\n",
              "      <th>std</th>\n",
              "      <td>3.275554</td>\n",
              "      <td>36.346069</td>\n",
              "    </tr>\n",
              "    <tr>\n",
              "      <th>min</th>\n",
              "      <td>1.000000</td>\n",
              "      <td>0.000000</td>\n",
              "    </tr>\n",
              "    <tr>\n",
              "      <th>25%</th>\n",
              "      <td>5.000000</td>\n",
              "      <td>6.000000</td>\n",
              "    </tr>\n",
              "    <tr>\n",
              "      <th>50%</th>\n",
              "      <td>8.000000</td>\n",
              "      <td>16.000000</td>\n",
              "    </tr>\n",
              "    <tr>\n",
              "      <th>75%</th>\n",
              "      <td>10.000000</td>\n",
              "      <td>36.000000</td>\n",
              "    </tr>\n",
              "    <tr>\n",
              "      <th>max</th>\n",
              "      <td>10.000000</td>\n",
              "      <td>1291.000000</td>\n",
              "    </tr>\n",
              "  </tbody>\n",
              "</table>\n",
              "</div>\n",
              "      <button class=\"colab-df-convert\" onclick=\"convertToInteractive('df-fb6405a8-3251-4b94-be6b-a8d15ef6e8bf')\"\n",
              "              title=\"Convert this dataframe to an interactive table.\"\n",
              "              style=\"display:none;\">\n",
              "        \n",
              "  <svg xmlns=\"http://www.w3.org/2000/svg\" height=\"24px\"viewBox=\"0 0 24 24\"\n",
              "       width=\"24px\">\n",
              "    <path d=\"M0 0h24v24H0V0z\" fill=\"none\"/>\n",
              "    <path d=\"M18.56 5.44l.94 2.06.94-2.06 2.06-.94-2.06-.94-.94-2.06-.94 2.06-2.06.94zm-11 1L8.5 8.5l.94-2.06 2.06-.94-2.06-.94L8.5 2.5l-.94 2.06-2.06.94zm10 10l.94 2.06.94-2.06 2.06-.94-2.06-.94-.94-2.06-.94 2.06-2.06.94z\"/><path d=\"M17.41 7.96l-1.37-1.37c-.4-.4-.92-.59-1.43-.59-.52 0-1.04.2-1.43.59L10.3 9.45l-7.72 7.72c-.78.78-.78 2.05 0 2.83L4 21.41c.39.39.9.59 1.41.59.51 0 1.02-.2 1.41-.59l7.78-7.78 2.81-2.81c.8-.78.8-2.07 0-2.86zM5.41 20L4 18.59l7.72-7.72 1.47 1.35L5.41 20z\"/>\n",
              "  </svg>\n",
              "      </button>\n",
              "      \n",
              "  <style>\n",
              "    .colab-df-container {\n",
              "      display:flex;\n",
              "      flex-wrap:wrap;\n",
              "      gap: 12px;\n",
              "    }\n",
              "\n",
              "    .colab-df-convert {\n",
              "      background-color: #E8F0FE;\n",
              "      border: none;\n",
              "      border-radius: 50%;\n",
              "      cursor: pointer;\n",
              "      display: none;\n",
              "      fill: #1967D2;\n",
              "      height: 32px;\n",
              "      padding: 0 0 0 0;\n",
              "      width: 32px;\n",
              "    }\n",
              "\n",
              "    .colab-df-convert:hover {\n",
              "      background-color: #E2EBFA;\n",
              "      box-shadow: 0px 1px 2px rgba(60, 64, 67, 0.3), 0px 1px 3px 1px rgba(60, 64, 67, 0.15);\n",
              "      fill: #174EA6;\n",
              "    }\n",
              "\n",
              "    [theme=dark] .colab-df-convert {\n",
              "      background-color: #3B4455;\n",
              "      fill: #D2E3FC;\n",
              "    }\n",
              "\n",
              "    [theme=dark] .colab-df-convert:hover {\n",
              "      background-color: #434B5C;\n",
              "      box-shadow: 0px 1px 3px 1px rgba(0, 0, 0, 0.15);\n",
              "      filter: drop-shadow(0px 1px 2px rgba(0, 0, 0, 0.3));\n",
              "      fill: #FFFFFF;\n",
              "    }\n",
              "  </style>\n",
              "\n",
              "      <script>\n",
              "        const buttonEl =\n",
              "          document.querySelector('#df-fb6405a8-3251-4b94-be6b-a8d15ef6e8bf button.colab-df-convert');\n",
              "        buttonEl.style.display =\n",
              "          google.colab.kernel.accessAllowed ? 'block' : 'none';\n",
              "\n",
              "        async function convertToInteractive(key) {\n",
              "          const element = document.querySelector('#df-fb6405a8-3251-4b94-be6b-a8d15ef6e8bf');\n",
              "          const dataTable =\n",
              "            await google.colab.kernel.invokeFunction('convertToInteractive',\n",
              "                                                     [key], {});\n",
              "          if (!dataTable) return;\n",
              "\n",
              "          const docLinkHtml = 'Like what you see? Visit the ' +\n",
              "            '<a target=\"_blank\" href=https://colab.research.google.com/notebooks/data_table.ipynb>data table notebook</a>'\n",
              "            + ' to learn more about interactive tables.';\n",
              "          element.innerHTML = '';\n",
              "          dataTable['output_type'] = 'display_data';\n",
              "          await google.colab.output.renderOutput(dataTable, element);\n",
              "          const docLink = document.createElement('div');\n",
              "          docLink.innerHTML = docLinkHtml;\n",
              "          element.appendChild(docLink);\n",
              "        }\n",
              "      </script>\n",
              "    </div>\n",
              "  </div>\n",
              "  "
            ]
          },
          "metadata": {},
          "execution_count": 38
        }
      ],
      "source": [
        "data.describe()"
      ],
      "id": "3a6e7edd"
    },
    {
      "cell_type": "code",
      "execution_count": null,
      "metadata": {
        "id": "2985c78b"
      },
      "outputs": [],
      "source": [
        "def describe_cat(data):\n",
        "    table=pd.DataFrame(columns = data.select_dtypes(\"object\").columns, index = [\"count\", \"nulls\",\"%miss\", 'cardinality', \"mode\", \"mode freq\", \"mode%\", \"2nd mode\", \"2nd mode freq\", \"2nd mode%\"])\n",
        "    for col in data.select_dtypes(\"object\").columns :\n",
        "        table.loc[\"count\"][col] = len(data[col])\n",
        "        table.loc[\"nulls\"][col] = len(data[data[col].isna() == True][col])\n",
        "        table.loc[\"%miss\"][col] = table.loc[\"nulls\"][col]/table.loc[\"count\"][col]\n",
        "        table.loc[\"cardinality\"][col]= len(data[col].unique())\n",
        "        table.loc[\"mode\"][col]= data[col].value_counts().index[0]\n",
        "        table.loc[\"mode freq\"][col]= data[col].value_counts()[0]\n",
        "        table.loc[\"mode%\"][col]= table.loc[\"mode freq\"][col]/table.loc[\"count\"][col]\n",
        "        if table.loc[\"cardinality\"][col] != table.loc[\"mode freq\"][col]:\n",
        "            table.loc[\"2nd mode\"][col]= data[col].value_counts().index[1]\n",
        "            table.loc[\"2nd mode freq\"][col]= data[col].value_counts()[1]\n",
        "            table.loc[\"2nd mode%\"][col]= table.loc[\"2nd mode freq\"][col]/table.loc[\"count\"][col]\n",
        "    return table"
      ],
      "id": "2985c78b"
    },
    {
      "cell_type": "code",
      "execution_count": null,
      "metadata": {
        "colab": {
          "base_uri": "https://localhost:8080/",
          "height": 363
        },
        "id": "67a5a6f6",
        "outputId": "9f2d2ee1-8014-4fee-b1f0-7852ee0cf057"
      },
      "outputs": [
        {
          "output_type": "execute_result",
          "data": {
            "text/plain": [
              "                         Table Names        drugName      condition    review  \\\n",
              "count                         215063          215063         215063    215063   \n",
              "nulls                              0               0           1194         0   \n",
              "%miss                            0.0             0.0       0.005552       0.0   \n",
              "cardinality                        2            3671            917    128478   \n",
              "mode           drugsComTrain_raw.csv  Levonorgestrel  Birth Control    \"Good\"   \n",
              "mode freq                     161297            4930          38436        39   \n",
              "mode%                       0.749999        0.022924        0.17872  0.000181   \n",
              "2nd mode        drugsComTest_raw.csv    Etonogestrel     Depression   \"Good.\"   \n",
              "2nd mode freq                  53766            4421          12164        26   \n",
              "2nd mode%                   0.250001        0.020557        0.05656  0.000121   \n",
              "\n",
              "                    date  \n",
              "count             215063  \n",
              "nulls                  0  \n",
              "%miss                0.0  \n",
              "cardinality         3579  \n",
              "mode            3/1/2016  \n",
              "mode freq            185  \n",
              "mode%            0.00086  \n",
              "2nd mode       3/31/2016  \n",
              "2nd mode freq        183  \n",
              "2nd mode%       0.000851  "
            ],
            "text/html": [
              "\n",
              "  <div id=\"df-3735c381-9a68-461a-9770-48bc207d6199\">\n",
              "    <div class=\"colab-df-container\">\n",
              "      <div>\n",
              "<style scoped>\n",
              "    .dataframe tbody tr th:only-of-type {\n",
              "        vertical-align: middle;\n",
              "    }\n",
              "\n",
              "    .dataframe tbody tr th {\n",
              "        vertical-align: top;\n",
              "    }\n",
              "\n",
              "    .dataframe thead th {\n",
              "        text-align: right;\n",
              "    }\n",
              "</style>\n",
              "<table border=\"1\" class=\"dataframe\">\n",
              "  <thead>\n",
              "    <tr style=\"text-align: right;\">\n",
              "      <th></th>\n",
              "      <th>Table Names</th>\n",
              "      <th>drugName</th>\n",
              "      <th>condition</th>\n",
              "      <th>review</th>\n",
              "      <th>date</th>\n",
              "    </tr>\n",
              "  </thead>\n",
              "  <tbody>\n",
              "    <tr>\n",
              "      <th>count</th>\n",
              "      <td>215063</td>\n",
              "      <td>215063</td>\n",
              "      <td>215063</td>\n",
              "      <td>215063</td>\n",
              "      <td>215063</td>\n",
              "    </tr>\n",
              "    <tr>\n",
              "      <th>nulls</th>\n",
              "      <td>0</td>\n",
              "      <td>0</td>\n",
              "      <td>1194</td>\n",
              "      <td>0</td>\n",
              "      <td>0</td>\n",
              "    </tr>\n",
              "    <tr>\n",
              "      <th>%miss</th>\n",
              "      <td>0.0</td>\n",
              "      <td>0.0</td>\n",
              "      <td>0.005552</td>\n",
              "      <td>0.0</td>\n",
              "      <td>0.0</td>\n",
              "    </tr>\n",
              "    <tr>\n",
              "      <th>cardinality</th>\n",
              "      <td>2</td>\n",
              "      <td>3671</td>\n",
              "      <td>917</td>\n",
              "      <td>128478</td>\n",
              "      <td>3579</td>\n",
              "    </tr>\n",
              "    <tr>\n",
              "      <th>mode</th>\n",
              "      <td>drugsComTrain_raw.csv</td>\n",
              "      <td>Levonorgestrel</td>\n",
              "      <td>Birth Control</td>\n",
              "      <td>\"Good\"</td>\n",
              "      <td>3/1/2016</td>\n",
              "    </tr>\n",
              "    <tr>\n",
              "      <th>mode freq</th>\n",
              "      <td>161297</td>\n",
              "      <td>4930</td>\n",
              "      <td>38436</td>\n",
              "      <td>39</td>\n",
              "      <td>185</td>\n",
              "    </tr>\n",
              "    <tr>\n",
              "      <th>mode%</th>\n",
              "      <td>0.749999</td>\n",
              "      <td>0.022924</td>\n",
              "      <td>0.17872</td>\n",
              "      <td>0.000181</td>\n",
              "      <td>0.00086</td>\n",
              "    </tr>\n",
              "    <tr>\n",
              "      <th>2nd mode</th>\n",
              "      <td>drugsComTest_raw.csv</td>\n",
              "      <td>Etonogestrel</td>\n",
              "      <td>Depression</td>\n",
              "      <td>\"Good.\"</td>\n",
              "      <td>3/31/2016</td>\n",
              "    </tr>\n",
              "    <tr>\n",
              "      <th>2nd mode freq</th>\n",
              "      <td>53766</td>\n",
              "      <td>4421</td>\n",
              "      <td>12164</td>\n",
              "      <td>26</td>\n",
              "      <td>183</td>\n",
              "    </tr>\n",
              "    <tr>\n",
              "      <th>2nd mode%</th>\n",
              "      <td>0.250001</td>\n",
              "      <td>0.020557</td>\n",
              "      <td>0.05656</td>\n",
              "      <td>0.000121</td>\n",
              "      <td>0.000851</td>\n",
              "    </tr>\n",
              "  </tbody>\n",
              "</table>\n",
              "</div>\n",
              "      <button class=\"colab-df-convert\" onclick=\"convertToInteractive('df-3735c381-9a68-461a-9770-48bc207d6199')\"\n",
              "              title=\"Convert this dataframe to an interactive table.\"\n",
              "              style=\"display:none;\">\n",
              "        \n",
              "  <svg xmlns=\"http://www.w3.org/2000/svg\" height=\"24px\"viewBox=\"0 0 24 24\"\n",
              "       width=\"24px\">\n",
              "    <path d=\"M0 0h24v24H0V0z\" fill=\"none\"/>\n",
              "    <path d=\"M18.56 5.44l.94 2.06.94-2.06 2.06-.94-2.06-.94-.94-2.06-.94 2.06-2.06.94zm-11 1L8.5 8.5l.94-2.06 2.06-.94-2.06-.94L8.5 2.5l-.94 2.06-2.06.94zm10 10l.94 2.06.94-2.06 2.06-.94-2.06-.94-.94-2.06-.94 2.06-2.06.94z\"/><path d=\"M17.41 7.96l-1.37-1.37c-.4-.4-.92-.59-1.43-.59-.52 0-1.04.2-1.43.59L10.3 9.45l-7.72 7.72c-.78.78-.78 2.05 0 2.83L4 21.41c.39.39.9.59 1.41.59.51 0 1.02-.2 1.41-.59l7.78-7.78 2.81-2.81c.8-.78.8-2.07 0-2.86zM5.41 20L4 18.59l7.72-7.72 1.47 1.35L5.41 20z\"/>\n",
              "  </svg>\n",
              "      </button>\n",
              "      \n",
              "  <style>\n",
              "    .colab-df-container {\n",
              "      display:flex;\n",
              "      flex-wrap:wrap;\n",
              "      gap: 12px;\n",
              "    }\n",
              "\n",
              "    .colab-df-convert {\n",
              "      background-color: #E8F0FE;\n",
              "      border: none;\n",
              "      border-radius: 50%;\n",
              "      cursor: pointer;\n",
              "      display: none;\n",
              "      fill: #1967D2;\n",
              "      height: 32px;\n",
              "      padding: 0 0 0 0;\n",
              "      width: 32px;\n",
              "    }\n",
              "\n",
              "    .colab-df-convert:hover {\n",
              "      background-color: #E2EBFA;\n",
              "      box-shadow: 0px 1px 2px rgba(60, 64, 67, 0.3), 0px 1px 3px 1px rgba(60, 64, 67, 0.15);\n",
              "      fill: #174EA6;\n",
              "    }\n",
              "\n",
              "    [theme=dark] .colab-df-convert {\n",
              "      background-color: #3B4455;\n",
              "      fill: #D2E3FC;\n",
              "    }\n",
              "\n",
              "    [theme=dark] .colab-df-convert:hover {\n",
              "      background-color: #434B5C;\n",
              "      box-shadow: 0px 1px 3px 1px rgba(0, 0, 0, 0.15);\n",
              "      filter: drop-shadow(0px 1px 2px rgba(0, 0, 0, 0.3));\n",
              "      fill: #FFFFFF;\n",
              "    }\n",
              "  </style>\n",
              "\n",
              "      <script>\n",
              "        const buttonEl =\n",
              "          document.querySelector('#df-3735c381-9a68-461a-9770-48bc207d6199 button.colab-df-convert');\n",
              "        buttonEl.style.display =\n",
              "          google.colab.kernel.accessAllowed ? 'block' : 'none';\n",
              "\n",
              "        async function convertToInteractive(key) {\n",
              "          const element = document.querySelector('#df-3735c381-9a68-461a-9770-48bc207d6199');\n",
              "          const dataTable =\n",
              "            await google.colab.kernel.invokeFunction('convertToInteractive',\n",
              "                                                     [key], {});\n",
              "          if (!dataTable) return;\n",
              "\n",
              "          const docLinkHtml = 'Like what you see? Visit the ' +\n",
              "            '<a target=\"_blank\" href=https://colab.research.google.com/notebooks/data_table.ipynb>data table notebook</a>'\n",
              "            + ' to learn more about interactive tables.';\n",
              "          element.innerHTML = '';\n",
              "          dataTable['output_type'] = 'display_data';\n",
              "          await google.colab.output.renderOutput(dataTable, element);\n",
              "          const docLink = document.createElement('div');\n",
              "          docLink.innerHTML = docLinkHtml;\n",
              "          element.appendChild(docLink);\n",
              "        }\n",
              "      </script>\n",
              "    </div>\n",
              "  </div>\n",
              "  "
            ]
          },
          "metadata": {},
          "execution_count": 40
        }
      ],
      "source": [
        "describe_cat(data)"
      ],
      "id": "67a5a6f6"
    },
    {
      "cell_type": "code",
      "execution_count": null,
      "metadata": {
        "colab": {
          "base_uri": "https://localhost:8080/"
        },
        "id": "877494fd",
        "outputId": "5f0ad410-a344-4888-f90c-daf4dc566b2c"
      },
      "outputs": [
        {
          "output_type": "stream",
          "name": "stdout",
          "text": [
            "<class 'pandas.core.frame.DataFrame'>\n",
            "Int64Index: 215063 entries, 163740 to 216816\n",
            "Data columns (total 7 columns):\n",
            " #   Column       Non-Null Count   Dtype \n",
            "---  ------       --------------   ----- \n",
            " 0   Table Names  215063 non-null  object\n",
            " 1   drugName     215063 non-null  object\n",
            " 2   condition    213869 non-null  object\n",
            " 3   review       215063 non-null  object\n",
            " 4   rating       215063 non-null  int64 \n",
            " 5   date         215063 non-null  object\n",
            " 6   usefulCount  215063 non-null  int64 \n",
            "dtypes: int64(2), object(5)\n",
            "memory usage: 13.1+ MB\n"
          ]
        }
      ],
      "source": [
        "data.info() # data.dtypes"
      ],
      "id": "877494fd"
    },
    {
      "cell_type": "code",
      "execution_count": null,
      "metadata": {
        "colab": {
          "base_uri": "https://localhost:8080/",
          "height": 160
        },
        "id": "e7c07f01",
        "outputId": "6745ec8b-471c-4099-d804-4b2fb0dac6ca"
      },
      "outputs": [
        {
          "output_type": "display_data",
          "data": {
            "text/plain": [
              "Table Names    False\n",
              "drugName       False\n",
              "condition       True\n",
              "review         False\n",
              "rating         False\n",
              "date           False\n",
              "usefulCount    False\n",
              "dtype: bool"
            ]
          },
          "metadata": {}
        }
      ],
      "source": [
        "# checking if the data contains NULL values\n",
        "display(data.isnull().any())"
      ],
      "id": "e7c07f01"
    },
    {
      "cell_type": "code",
      "execution_count": null,
      "metadata": {
        "colab": {
          "base_uri": "https://localhost:8080/"
        },
        "id": "6f4f5215",
        "outputId": "65867045-457c-4702-9025-fd960829af9c"
      },
      "outputs": [
        {
          "output_type": "stream",
          "name": "stdout",
          "text": [
            "3671\n"
          ]
        }
      ],
      "source": [
        "print(len(data.drugName.unique()))"
      ],
      "id": "6f4f5215"
    },
    {
      "cell_type": "code",
      "execution_count": null,
      "metadata": {
        "colab": {
          "base_uri": "https://localhost:8080/"
        },
        "id": "3aa400c4",
        "outputId": "6955fdc1-c412-4dbd-cbda-18ee5a8e35b2"
      },
      "outputs": [
        {
          "output_type": "stream",
          "name": "stdout",
          "text": [
            "917\n"
          ]
        }
      ],
      "source": [
        "print(len(data.condition.unique()))"
      ],
      "id": "3aa400c4"
    },
    {
      "cell_type": "markdown",
      "metadata": {
        "id": "HxGhO0b4o0W6"
      },
      "source": [
        "\n",
        "\n",
        "```\n",
        "# This is formatted as code\n",
        "```\n",
        "\n",
        "## Distributions"
      ],
      "id": "HxGhO0b4o0W6"
    },
    {
      "cell_type": "code",
      "execution_count": null,
      "metadata": {
        "colab": {
          "base_uri": "https://localhost:8080/",
          "height": 389
        },
        "id": "4SEsix3Yoyeb",
        "outputId": "da271f53-e2e5-4584-b389-57e2a3368431"
      },
      "outputs": [
        {
          "output_type": "execute_result",
          "data": {
            "text/plain": [
              "array([[<matplotlib.axes._subplots.AxesSubplot object at 0x7f283c7fc7d0>,\n",
              "        <matplotlib.axes._subplots.AxesSubplot object at 0x7f2839930550>]],\n",
              "      dtype=object)"
            ]
          },
          "metadata": {},
          "execution_count": 55
        },
        {
          "output_type": "display_data",
          "data": {
            "text/plain": [
              "<Figure size 1080x360 with 2 Axes>"
            ],
            "image/png": "[encoded data removed]"
          },
          "metadata": {
            "needs_background": "light"
          }
        }
      ],
      "source": [
        "data.hist(bins=30, figsize=(15, 5))"
      ],
      "id": "4SEsix3Yoyeb"
    },
    {
      "cell_type": "markdown",
      "source": [
        "## Relations among Attributes"
      ],
      "metadata": {
        "id": "qNIyTiKykA_1"
      },
      "id": "qNIyTiKykA_1"
    },
    {
      "cell_type": "code",
      "source": [
        "import matplotlib.pyplot as plt\n",
        "import seaborn as sns\n",
        "plt.figure(figsize=(12,10))\n",
        "cor = data.corr()\n",
        "sns.heatmap(cor, annot=True, cmap=plt.cm.Reds)\n",
        "plt.show()"
      ],
      "metadata": {
        "colab": {
          "base_uri": "https://localhost:8080/",
          "height": 596
        },
        "id": "HE7NNIqejmkM",
        "outputId": "e755269f-0b39-45c2-8752-86c44b3f2823"
      },
      "id": "HE7NNIqejmkM",
      "execution_count": null,
      "outputs": [
        {
          "output_type": "display_data",
          "data": {
            "text/plain": [
              "<Figure size 864x720 with 2 Axes>"
            ],
            "image/png": "[encoded data removed]"
          },
          "metadata": {
            "needs_background": "light"
          }
        }
      ]
    },
    {
      "cell_type": "code",
      "source": [
        "sns.pairplot(data)\n",
        "plt.show()"
      ],
      "metadata": {
        "colab": {
          "base_uri": "https://localhost:8080/",
          "height": 374
        },
        "id": "ajTp23KzoemU",
        "outputId": "727bc8ee-4bc7-4013-f6b8-863739a42416"
      },
      "id": "ajTp23KzoemU",
      "execution_count": null,
      "outputs": [
        {
          "output_type": "display_data",
          "data": {
            "text/plain": [
              "<Figure size 360x360 with 6 Axes>"
            ],
            "image/png": "[encoded data removed]"
          },
          "metadata": {
            "needs_background": "light"
          }
        }
      ]
    },
    {
      "cell_type": "code",
      "execution_count": null,
      "metadata": {
        "colab": {
          "base_uri": "https://localhost:8080/",
          "height": 267
        },
        "id": "f92a3dd7",
        "outputId": "3a521a71-b82d-4deb-a9c8-41da365da84f"
      },
      "outputs": [
        {
          "output_type": "execute_result",
          "data": {
            "text/plain": [
              "                    Table Names               drugName  \\\n",
              "uniqueID                                                 \n",
              "33560      drugsComTest_raw.csv  Microgestin Fe 1 / 20   \n",
              "133232     drugsComTest_raw.csv           Tri-Sprintec   \n",
              "...                         ...                    ...   \n",
              "88459     drugsComTrain_raw.csv               Adderall   \n",
              "17224     drugsComTrain_raw.csv               Flexeril   \n",
              "\n",
              "                                            condition  \\\n",
              "uniqueID                                                \n",
              "33560     12</span> users found this comment helpful.   \n",
              "133232     0</span> users found this comment helpful.   \n",
              "...                                               ...   \n",
              "88459     21</span> users found this comment helpful.   \n",
              "17224     23</span> users found this comment helpful.   \n",
              "\n",
              "                                                     review  rating  \\\n",
              "uniqueID                                                              \n",
              "33560     \"I was really worried at first because of all ...       9   \n",
              "133232    \"I have been off of birth control for 2 years....       5   \n",
              "...                                                     ...     ...   \n",
              "88459     \"I have been on and off Adderall for the bette...       8   \n",
              "17224     \"Its the only thing that has really worked to ...       8   \n",
              "\n",
              "                date  usefulCount  \n",
              "uniqueID                           \n",
              "33560     12/24/2012           12  \n",
              "133232    12/20/2011            0  \n",
              "...              ...          ...  \n",
              "88459      9/30/2010           21  \n",
              "17224      5/29/2008           23  \n",
              "\n",
              "[1171 rows x 7 columns]"
            ],
            "text/html": [
              "\n",
              "  <div id=\"df-805acae0-d84f-468e-b0c3-ae11ede9e7e6\">\n",
              "    <div class=\"colab-df-container\">\n",
              "      <div>\n",
              "<style scoped>\n",
              "    .dataframe tbody tr th:only-of-type {\n",
              "        vertical-align: middle;\n",
              "    }\n",
              "\n",
              "    .dataframe tbody tr th {\n",
              "        vertical-align: top;\n",
              "    }\n",
              "\n",
              "    .dataframe thead th {\n",
              "        text-align: right;\n",
              "    }\n",
              "</style>\n",
              "<table border=\"1\" class=\"dataframe\">\n",
              "  <thead>\n",
              "    <tr style=\"text-align: right;\">\n",
              "      <th></th>\n",
              "      <th>Table Names</th>\n",
              "      <th>drugName</th>\n",
              "      <th>condition</th>\n",
              "      <th>review</th>\n",
              "      <th>rating</th>\n",
              "      <th>date</th>\n",
              "      <th>usefulCount</th>\n",
              "    </tr>\n",
              "    <tr>\n",
              "      <th>uniqueID</th>\n",
              "      <th></th>\n",
              "      <th></th>\n",
              "      <th></th>\n",
              "      <th></th>\n",
              "      <th></th>\n",
              "      <th></th>\n",
              "      <th></th>\n",
              "    </tr>\n",
              "  </thead>\n",
              "  <tbody>\n",
              "    <tr>\n",
              "      <th>33560</th>\n",
              "      <td>drugsComTest_raw.csv</td>\n",
              "      <td>Microgestin Fe 1 / 20</td>\n",
              "      <td>12&lt;/span&gt; users found this comment helpful.</td>\n",
              "      <td>\"I was really worried at first because of all ...</td>\n",
              "      <td>9</td>\n",
              "      <td>12/24/2012</td>\n",
              "      <td>12</td>\n",
              "    </tr>\n",
              "    <tr>\n",
              "      <th>133232</th>\n",
              "      <td>drugsComTest_raw.csv</td>\n",
              "      <td>Tri-Sprintec</td>\n",
              "      <td>0&lt;/span&gt; users found this comment helpful.</td>\n",
              "      <td>\"I have been off of birth control for 2 years....</td>\n",
              "      <td>5</td>\n",
              "      <td>12/20/2011</td>\n",
              "      <td>0</td>\n",
              "    </tr>\n",
              "    <tr>\n",
              "      <th>...</th>\n",
              "      <td>...</td>\n",
              "      <td>...</td>\n",
              "      <td>...</td>\n",
              "      <td>...</td>\n",
              "      <td>...</td>\n",
              "      <td>...</td>\n",
              "      <td>...</td>\n",
              "    </tr>\n",
              "    <tr>\n",
              "      <th>88459</th>\n",
              "      <td>drugsComTrain_raw.csv</td>\n",
              "      <td>Adderall</td>\n",
              "      <td>21&lt;/span&gt; users found this comment helpful.</td>\n",
              "      <td>\"I have been on and off Adderall for the bette...</td>\n",
              "      <td>8</td>\n",
              "      <td>9/30/2010</td>\n",
              "      <td>21</td>\n",
              "    </tr>\n",
              "    <tr>\n",
              "      <th>17224</th>\n",
              "      <td>drugsComTrain_raw.csv</td>\n",
              "      <td>Flexeril</td>\n",
              "      <td>23&lt;/span&gt; users found this comment helpful.</td>\n",
              "      <td>\"Its the only thing that has really worked to ...</td>\n",
              "      <td>8</td>\n",
              "      <td>5/29/2008</td>\n",
              "      <td>23</td>\n",
              "    </tr>\n",
              "  </tbody>\n",
              "</table>\n",
              "<p>1171 rows × 7 columns</p>\n",
              "</div>\n",
              "      <button class=\"colab-df-convert\" onclick=\"convertToInteractive('df-805acae0-d84f-468e-b0c3-ae11ede9e7e6')\"\n",
              "              title=\"Convert this dataframe to an interactive table.\"\n",
              "              style=\"display:none;\">\n",
              "        \n",
              "  <svg xmlns=\"http://www.w3.org/2000/svg\" height=\"24px\"viewBox=\"0 0 24 24\"\n",
              "       width=\"24px\">\n",
              "    <path d=\"M0 0h24v24H0V0z\" fill=\"none\"/>\n",
              "    <path d=\"M18.56 5.44l.94 2.06.94-2.06 2.06-.94-2.06-.94-.94-2.06-.94 2.06-2.06.94zm-11 1L8.5 8.5l.94-2.06 2.06-.94-2.06-.94L8.5 2.5l-.94 2.06-2.06.94zm10 10l.94 2.06.94-2.06 2.06-.94-2.06-.94-.94-2.06-.94 2.06-2.06.94z\"/><path d=\"M17.41 7.96l-1.37-1.37c-.4-.4-.92-.59-1.43-.59-.52 0-1.04.2-1.43.59L10.3 9.45l-7.72 7.72c-.78.78-.78 2.05 0 2.83L4 21.41c.39.39.9.59 1.41.59.51 0 1.02-.2 1.41-.59l7.78-7.78 2.81-2.81c.8-.78.8-2.07 0-2.86zM5.41 20L4 18.59l7.72-7.72 1.47 1.35L5.41 20z\"/>\n",
              "  </svg>\n",
              "      </button>\n",
              "      \n",
              "  <style>\n",
              "    .colab-df-container {\n",
              "      display:flex;\n",
              "      flex-wrap:wrap;\n",
              "      gap: 12px;\n",
              "    }\n",
              "\n",
              "    .colab-df-convert {\n",
              "      background-color: #E8F0FE;\n",
              "      border: none;\n",
              "      border-radius: 50%;\n",
              "      cursor: pointer;\n",
              "      display: none;\n",
              "      fill: #1967D2;\n",
              "      height: 32px;\n",
              "      padding: 0 0 0 0;\n",
              "      width: 32px;\n",
              "    }\n",
              "\n",
              "    .colab-df-convert:hover {\n",
              "      background-color: #E2EBFA;\n",
              "      box-shadow: 0px 1px 2px rgba(60, 64, 67, 0.3), 0px 1px 3px 1px rgba(60, 64, 67, 0.15);\n",
              "      fill: #174EA6;\n",
              "    }\n",
              "\n",
              "    [theme=dark] .colab-df-convert {\n",
              "      background-color: #3B4455;\n",
              "      fill: #D2E3FC;\n",
              "    }\n",
              "\n",
              "    [theme=dark] .colab-df-convert:hover {\n",
              "      background-color: #434B5C;\n",
              "      box-shadow: 0px 1px 3px 1px rgba(0, 0, 0, 0.15);\n",
              "      filter: drop-shadow(0px 1px 2px rgba(0, 0, 0, 0.3));\n",
              "      fill: #FFFFFF;\n",
              "    }\n",
              "  </style>\n",
              "\n",
              "      <script>\n",
              "        const buttonEl =\n",
              "          document.querySelector('#df-805acae0-d84f-468e-b0c3-ae11ede9e7e6 button.colab-df-convert');\n",
              "        buttonEl.style.display =\n",
              "          google.colab.kernel.accessAllowed ? 'block' : 'none';\n",
              "\n",
              "        async function convertToInteractive(key) {\n",
              "          const element = document.querySelector('#df-805acae0-d84f-468e-b0c3-ae11ede9e7e6');\n",
              "          const dataTable =\n",
              "            await google.colab.kernel.invokeFunction('convertToInteractive',\n",
              "                                                     [key], {});\n",
              "          if (!dataTable) return;\n",
              "\n",
              "          const docLinkHtml = 'Like what you see? Visit the ' +\n",
              "            '<a target=\"_blank\" href=https://colab.research.google.com/notebooks/data_table.ipynb>data table notebook</a>'\n",
              "            + ' to learn more about interactive tables.';\n",
              "          element.innerHTML = '';\n",
              "          dataTable['output_type'] = 'display_data';\n",
              "          await google.colab.output.renderOutput(dataTable, element);\n",
              "          const docLink = document.createElement('div');\n",
              "          docLink.innerHTML = docLinkHtml;\n",
              "          element.appendChild(docLink);\n",
              "        }\n",
              "      </script>\n",
              "    </div>\n",
              "  </div>\n",
              "  "
            ]
          },
          "metadata": {},
          "execution_count": 48
        }
      ],
      "source": [
        "data[data[\"condition\"].str.contains(\"users found this comment helpful.\")==True]"
      ],
      "id": "f92a3dd7"
    },
    {
      "cell_type": "markdown",
      "metadata": {
        "id": "e3434049"
      },
      "source": [
        "# Cleaning Data"
      ],
      "id": "e3434049"
    },
    {
      "cell_type": "markdown",
      "metadata": {
        "id": "4ae4b95e"
      },
      "source": [
        "### Fill up null values in condition column"
      ],
      "id": "4ae4b95e"
    },
    {
      "cell_type": "code",
      "execution_count": null,
      "metadata": {
        "colab": {
          "base_uri": "https://localhost:8080/"
        },
        "id": "2df91cec",
        "outputId": "6c1553e7-6d71-4ee4-c03c-39160d4a95b8"
      },
      "outputs": [
        {
          "output_type": "stream",
          "name": "stdout",
          "text": [
            "Weight Loss\n",
            "2\n",
            "0\n",
            "Birth Control\n",
            "44\n",
            "0\n",
            "Birth Control\n",
            "34\n",
            "0\n",
            "ibromyalgia\n",
            "5\n",
            "0\n",
            "Postmenopausal Symptoms\n",
            "3\n",
            "0\n",
            "Obesity\n",
            "8\n",
            "0\n",
            "Birth Control\n",
            "5\n",
            "0\n",
            "Birth Control\n",
            "108\n",
            "0\n",
            "ADHD\n",
            "10\n",
            "0\n",
            "Birth Control\n",
            "16\n",
            "0\n",
            "Birth Control\n",
            "134\n",
            "0\n",
            "Light Sedation\n",
            "2\n",
            "0\n",
            "Vaginal Yeast Infection\n",
            "1\n",
            "0\n",
            "Insomnia\n",
            "4\n",
            "0\n",
            "Bowel Preparation\n",
            "1\n",
            "0\n",
            "Sinusitis\n",
            "1\n",
            "0\n",
            "Bipolar Disorde\n",
            "2\n",
            "0\n",
            "Birth Control\n",
            "35\n",
            "0\n",
            "Conjunctivitis, Allergic\n",
            "2\n",
            "0\n",
            "Migraine Prevention\n",
            "1\n",
            "0\n",
            "Insomnia\n",
            "2\n",
            "0\n",
            "Birth Control\n",
            "8\n",
            "0\n",
            "ibromyalgia\n",
            "11\n",
            "0\n",
            "Underactive Thyroid\n",
            "2\n",
            "0\n",
            "Hyperhidrosis\n",
            "6\n",
            "0\n",
            "ADHD\n",
            "3\n",
            "0\n",
            "Keratoconjunctivitis Sicca\n",
            "3\n",
            "0\n",
            "Birth Control\n",
            "19\n",
            "0\n",
            "Nausea/Vomiting, Chemotherapy Induced\n",
            "1\n",
            "0\n",
            "Constipation, Chronic\n",
            "1\n",
            "0\n",
            "GERD\n",
            "2\n",
            "0\n",
            "Postmenopausal Symptoms\n",
            "9\n",
            "0\n",
            "Pain\n",
            "6\n",
            "0\n",
            "Obsessive Compulsive Disorde\n",
            "1\n",
            "0\n",
            "Bipolar Disorde\n",
            "11\n",
            "0\n",
            "Allergic Rhinitis\n",
            "2\n",
            "0\n",
            "Otitis Media\n",
            "2\n",
            "0\n",
            "Insomnia\n",
            "6\n",
            "0\n",
            "Major Depressive Disorde\n",
            "2\n",
            "0\n",
            "Opiate Dependence\n",
            "8\n",
            "0\n",
            "Insomnia\n",
            "1\n",
            "0\n",
            "ADHD\n",
            "3\n",
            "0\n",
            "Urinary Tract Infection\n",
            "3\n",
            "0\n",
            "Acne\n",
            "3\n",
            "0\n",
            "Cough\n",
            "1\n",
            "0\n",
            "GERD\n",
            "2\n",
            "0\n",
            "ADHD\n",
            "14\n",
            "0\n",
            "Anxiety\n",
            "7\n",
            "0\n",
            "Allergic Rhinitis\n",
            "1\n",
            "0\n",
            "Inflammatory Conditions\n",
            "1\n",
            "0\n",
            "Schizophrenia\n",
            "2\n",
            "0\n",
            "Anxiety\n",
            "8\n",
            "0\n",
            "Seasonal Allergic Conjunctivitis\n",
            "2\n",
            "0\n",
            "COPD, Maintenance\n",
            "1\n",
            "0\n",
            "Irritable Bowel Syndrome\n",
            "2\n",
            "0\n",
            "Birth Control\n",
            "103\n",
            "0\n",
            "Osteoarthritis\n",
            "6\n",
            "0\n",
            "Alcohol Withdrawal\n",
            "3\n",
            "0\n",
            "Prevention of Thromboembolism in Atrial Fibrillation\n",
            "1\n",
            "0\n",
            "HIV Infection\n",
            "1\n",
            "0\n",
            "Smoking Cessation\n",
            "8\n",
            "0\n",
            "Allergic Rhinitis\n",
            "2\n",
            "0\n",
            "Muscle Spasm\n",
            "9\n",
            "0\n",
            "Muscle Spasm\n",
            "4\n",
            "0\n",
            "Bipolar Disorde\n",
            "5\n",
            "0\n",
            "Prevention of Hypokalemia\n",
            "1\n",
            "0\n",
            "Depression\n",
            "9\n",
            "0\n",
            "Depression\n",
            "9\n",
            "0\n",
            "Constipation\n",
            "3\n",
            "0\n",
            "Depression\n",
            "3\n",
            "0\n",
            "Depression\n",
            "6\n",
            "0\n",
            "Hypersomnia\n",
            "3\n",
            "0\n",
            "Multiple Myeloma\n",
            "1\n",
            "0\n",
            "Hypogonadism, Male\n",
            "7\n",
            "0\n",
            "Allergic Rhinitis\n",
            "3\n",
            "0\n",
            "Sinusitis\n",
            "5\n",
            "0\n",
            "Atrial Fibrillation\n",
            "1\n",
            "0\n",
            "Diabetes, Type 2\n",
            "1\n",
            "0\n",
            "Psychosis\n",
            "1\n",
            "0\n",
            "Asthma, Maintenance\n",
            "4\n",
            "0\n",
            "Bipolar Disorde\n",
            "4\n",
            "0\n",
            "Erectile Dysfunction\n",
            "7\n",
            "0\n",
            "Allergic Rhinitis\n",
            "2\n",
            "0\n",
            "Headache\n",
            "2\n",
            "0\n",
            "Constipation\n",
            "6\n",
            "0\n",
            "ADHD\n",
            "1\n",
            "0\n",
            "Pain\n",
            "3\n",
            "0\n",
            "Bacterial Skin Infection\n",
            "1\n",
            "0\n",
            "Migraine Prevention\n",
            "4\n",
            "0\n",
            "Osteoarthritis\n",
            "3\n",
            "0\n",
            "Bacterial Skin Infection\n",
            "1\n",
            "0\n",
            "Depression\n",
            "7\n",
            "0\n",
            "Weight Loss\n",
            "8\n",
            "0\n",
            "Birth Control\n",
            "1\n",
            "0\n",
            "Birth Control\n",
            "12\n",
            "0\n",
            "Smoking Cessation\n",
            "3\n",
            "0\n",
            "Inflammatory Conditions\n",
            "4\n",
            "0\n",
            "Anxiety\n",
            "6\n",
            "0\n",
            "High Blood Pressure\n",
            "1\n",
            "0\n",
            "Vaginal Yeast Infection\n",
            "3\n",
            "0\n",
            "Depression\n",
            "11\n",
            "0\n",
            "Allergic Rhinitis\n",
            "2\n",
            "0\n",
            "Anxiety and Stress\n",
            "2\n",
            "0\n",
            "Chronic Pain\n",
            "4\n",
            "0\n",
            "Dietary Supplementation\n",
            "1\n",
            "0\n",
            "Obsessive Compulsive Disorde\n",
            "1\n",
            "0\n",
            "Bipolar Disorde\n",
            "4\n",
            "0\n",
            "Obesity\n",
            "4\n",
            "0\n",
            "Narcolepsy\n",
            "3\n",
            "0\n",
            "Pain\n",
            "1\n",
            "0\n",
            "Influenza\n",
            "2\n",
            "0\n",
            "Obesity\n",
            "1\n",
            "0\n",
            "Depression\n",
            "5\n",
            "0\n",
            "Benign Prostatic Hyperplasia\n",
            "4\n",
            "0\n",
            "Depression\n",
            "2\n",
            "0\n",
            "Bipolar Disorde\n",
            "2\n",
            "0\n",
            "Muscle Spasm\n",
            "4\n",
            "0\n",
            "Ulcerative Colitis, Active\n",
            "1\n",
            "0\n",
            "Anxiety\n",
            "3\n",
            "0\n",
            "Constipation, Chronic\n",
            "3\n",
            "0\n",
            "High Cholesterol\n",
            "1\n",
            "0\n",
            "Oral Thrush\n",
            "1\n",
            "0\n",
            "Birth Control\n",
            "2\n",
            "0\n",
            "Bipolar Disorde\n",
            "3\n",
            "0\n",
            "Allergic Rhinitis\n",
            "2\n",
            "0\n",
            "Ulcerative Colitis\n",
            "1\n",
            "0\n",
            "Schizophrenia\n",
            "2\n",
            "0\n",
            "Anorexia\n",
            "1\n",
            "0\n",
            "Osteoarthritis\n",
            "2\n",
            "0\n",
            "Cough and Nasal Congestion\n",
            "1\n",
            "0\n",
            "Allergies\n",
            "2\n",
            "0\n",
            "Pain\n",
            "2\n",
            "0\n",
            "Acne\n",
            "1\n",
            "0\n",
            "Postural Orthostatic Tachycardia Syndrome\n",
            "1\n",
            "0\n",
            "Headache\n",
            "1\n",
            "0\n",
            "Anxiety\n",
            "7\n",
            "0\n",
            "Pain\n",
            "1\n",
            "0\n",
            "Cough\n",
            "1\n",
            "0\n",
            "Pain\n",
            "6\n",
            "0\n",
            "Constipation, Chronic\n",
            "4\n",
            "0\n",
            "Acne\n",
            "2\n",
            "0\n",
            "Narcolepsy\n",
            "6\n",
            "0\n",
            "Herpes Simplex\n",
            "1\n",
            "0\n",
            "Pain\n",
            "3\n",
            "0\n",
            "Myasthenia Gravis\n",
            "1\n",
            "0\n",
            "Osteoarthritis\n",
            "2\n",
            "0\n",
            "Seizures\n",
            "4\n",
            "0\n",
            "Pain\n",
            "3\n",
            "0\n",
            "Erectile Dysfunction\n",
            "6\n",
            "0\n",
            "Dietary Supplementation\n",
            "1\n",
            "0\n",
            "Osteoarthritis\n",
            "2\n",
            "0\n",
            "Depression\n",
            "3\n",
            "0\n",
            "Rhinitis\n",
            "2\n",
            "0\n",
            "High Blood Pressure\n",
            "1\n",
            "0\n",
            "Depression\n",
            "2\n",
            "0\n",
            "Depression\n",
            "1\n",
            "0\n",
            "Sore Throat\n",
            "1\n",
            "0\n",
            "Bowel Preparation\n",
            "5\n",
            "0\n",
            "High Blood Pressure\n",
            "1\n",
            "0\n",
            "Anxiety\n",
            "3\n",
            "0\n",
            "Sinusitis\n",
            "2\n",
            "0\n",
            "Chlamydia Infection\n",
            "2\n",
            "0\n",
            "Dry Skin\n",
            "1\n",
            "0\n",
            "Allergic Rhinitis\n",
            "1\n",
            "0\n",
            "Underactive Thyroid\n",
            "1\n",
            "0\n",
            "Insomnia\n",
            "2\n",
            "0\n",
            "Pain\n",
            "1\n",
            "0\n",
            "Cough and Nasal Congestion\n",
            "1\n",
            "0\n",
            "Conjunctivitis, Bacterial\n",
            "1\n",
            "0\n",
            "Seizures\n",
            "1\n",
            "0\n",
            "COPD, Maintenance\n",
            "1\n",
            "0\n",
            "Bipolar Disorde\n",
            "3\n",
            "0\n",
            "Period Pain\n",
            "1\n",
            "0\n",
            "Pain\n",
            "1\n",
            "0\n",
            "Constipation\n",
            "1\n",
            "0\n",
            "Depression\n",
            "2\n",
            "0\n",
            "Obesity\n",
            "5\n",
            "0\n",
            "Osteoarthritis\n",
            "1\n",
            "0\n",
            "Bronchitis\n",
            "1\n",
            "0\n",
            "Bipolar Disorde\n",
            "6\n",
            "0\n",
            "Chronic Idiopathic Constipation\n",
            "1\n",
            "0\n",
            "Keratosis\n",
            "2\n",
            "0\n",
            "Osteoarthritis\n",
            "2\n",
            "0\n",
            "Birth Control\n",
            "1\n",
            "0\n",
            "Diabetes Insipidus\n",
            "1\n",
            "0\n",
            "HIV Infection\n",
            "2\n",
            "0\n",
            "Allergic Rhinitis\n",
            "1\n",
            "0\n",
            "Nausea/Vomiting\n",
            "1\n",
            "0\n",
            "Cough and Nasal Congestion\n",
            "1\n",
            "0\n",
            "Pain\n",
            "1\n",
            "0\n",
            "Asthma, acute\n",
            "2\n",
            "0\n",
            "Cough\n",
            "1\n",
            "0\n",
            "Allergic Rhinitis\n",
            "3\n",
            "0\n",
            "Nausea/Vomiting\n",
            "1\n",
            "0\n",
            "Pain\n",
            "4\n",
            "0\n",
            "High Blood Pressure\n",
            "1\n",
            "0\n",
            "Allergic Rhinitis\n",
            "2\n",
            "0\n",
            "Asthma\n",
            "1\n",
            "0\n",
            "Urticaria\n",
            "1\n",
            "0\n",
            "Adult Human Growth Hormone Deficiency\n",
            "1\n",
            "0\n",
            "Heart Attack\n",
            "2\n",
            "0\n",
            "ADHD\n",
            "1\n",
            "0\n",
            "Not Listed / Othe\n",
            "1\n",
            "0\n",
            "Anesthesia\n",
            "1\n",
            "0\n",
            "Onychomycosis, Toenail\n",
            "2\n",
            "0\n",
            "Prevention of Dental Caries\n",
            "1\n",
            "0\n",
            "Human Papilloma Virus\n",
            "1\n",
            "0\n",
            "Seizure Prevention\n",
            "1\n",
            "0\n",
            "Migraine\n",
            "1\n",
            "0\n",
            "Onychomycosis, Toenail\n",
            "1\n",
            "0\n",
            "Headache\n",
            "1\n",
            "0\n",
            "Acne\n",
            "2\n",
            "0\n",
            "Conjunctivitis, Bacterial\n",
            "1\n",
            "0\n",
            "Deep Vein Thrombosis\n",
            "1\n",
            "0\n",
            "Glaucoma, Open Angle\n",
            "1\n",
            "0\n",
            "Pain\n",
            "4\n",
            "0\n",
            "Diarrhea, Chronic\n",
            "1\n",
            "0\n",
            "Psoriasis\n",
            "1\n",
            "0\n",
            "Sinus Symptoms\n",
            "1\n",
            "0\n",
            "Dry Skin\n",
            "1\n",
            "0\n",
            "GERD\n",
            "2\n",
            "0\n",
            "Rosacea\n",
            "1\n",
            "0\n",
            "Opiate Withdrawal\n",
            "1\n",
            "0\n",
            "GERD\n",
            "2\n",
            "0\n",
            "Acne\n",
            "1\n",
            "0\n",
            "Benign Essential Trem\n",
            "1\n",
            "0\n",
            "Restless Legs Syndrome\n",
            "1\n",
            "0\n",
            "Obesity\n",
            "1\n",
            "0\n",
            "Dietary Supplementation\n",
            "2\n",
            "0\n",
            "Pain\n",
            "2\n",
            "0\n",
            "Hirsutism\n",
            "1\n",
            "0\n",
            "Depression\n",
            "1\n",
            "0\n",
            "Pain\n",
            "1\n",
            "0\n",
            "HIV Infection\n",
            "1\n",
            "0\n",
            "Migraine\n",
            "1\n",
            "0\n",
            "Migraine\n",
            "2\n",
            "0\n",
            "Osteoarthritis\n",
            "2\n",
            "0\n",
            "Postmenopausal Symptoms\n",
            "1\n",
            "0\n",
            "Alopecia\n",
            "3\n",
            "0\n",
            "COPD\n",
            "1\n",
            "0\n",
            "Vitamin B12 Deficiency\n",
            "1\n",
            "0\n",
            "Dysuria\n",
            "2\n",
            "0\n",
            "Alzheimer's Disease\n",
            "3\n",
            "0\n",
            "Alzheimer's Disease\n",
            "1\n",
            "0\n",
            "Birth Control\n",
            "1\n",
            "0\n",
            "Chronic Spasticity\n",
            "1\n",
            "0\n",
            "Anxiety\n",
            "4\n",
            "0\n",
            "Acne\n",
            "1\n",
            "0\n",
            "Cold Sores\n",
            "1\n",
            "0\n",
            "Urinary Tract Infection\n",
            "1\n",
            "0\n",
            "Urinary Tract Infection\n",
            "2\n",
            "0\n",
            "Overactive Bladde\n",
            "1\n",
            "0\n",
            "Benign Prostatic Hyperplasia\n",
            "1\n",
            "0\n",
            "GERD\n",
            "2\n",
            "0\n",
            "High Blood Pressure\n",
            "1\n",
            "0\n",
            "Constipation\n",
            "1\n",
            "0\n",
            "Obesity\n",
            "1\n",
            "0\n",
            "Human Papillomavirus Prophylaxis\n",
            "2\n",
            "0\n",
            "Muscle Spasm\n",
            "1\n",
            "0\n",
            "Conjunctivitis, Allergic\n",
            "1\n",
            "0\n",
            "Nasal Congestion\n",
            "1\n",
            "0\n",
            "Influenza Prophylaxis\n",
            "2\n",
            "0\n",
            "ibromyalgia\n",
            "2\n",
            "0\n",
            "High Blood Pressure\n",
            "1\n",
            "0\n",
            "High Blood Pressure\n",
            "1\n",
            "0\n",
            "Depression\n",
            "1\n",
            "0\n",
            "CNS Magnetic Resonance Imaging\n",
            "1\n",
            "0\n",
            "High Blood Pressure\n",
            "1\n",
            "0\n",
            "Nasal Congestion\n",
            "1\n",
            "0\n",
            "Headache\n",
            "1\n",
            "0\n",
            "Muscle Spasm\n",
            "2\n",
            "0\n",
            "Postmenopausal Symptoms\n",
            "1\n",
            "0\n",
            "Bipolar Disorde\n",
            "2\n",
            "0\n",
            "Inflammatory Conditions\n",
            "1\n",
            "0\n",
            "Hiccups\n",
            "2\n",
            "0\n",
            "Erectile Dysfunction\n",
            "1\n",
            "0\n",
            "Insomnia\n",
            "1\n",
            "0\n",
            "Allergic Rhinitis\n",
            "1\n",
            "0\n",
            "Interstitial Cystitis\n",
            "1\n",
            "0\n",
            "Vitamin/Mineral Supplementation and Deficiency\n",
            "1\n",
            "0\n",
            "Edema\n",
            "1\n",
            "0\n",
            "Insomnia\n",
            "1\n",
            "0\n",
            "Diabetes, Type 2\n",
            "1\n",
            "0\n",
            "Alcohol Dependence\n",
            "1\n",
            "0\n",
            "Bacterial Vaginitis\n",
            "2\n",
            "0\n",
            "Acne\n",
            "1\n",
            "0\n",
            "Pain\n",
            "1\n",
            "0\n",
            "Pain\n",
            "1\n",
            "0\n",
            "Sinusitis\n",
            "1\n",
            "0\n",
            "Migraine\n",
            "1\n",
            "0\n",
            "Seizures\n",
            "1\n",
            "0\n",
            "Muscle Spasm\n",
            "1\n",
            "0\n"
          ]
        }
      ],
      "source": [
        "for medic in data[data[\"condition\"].isna()].drugName.unique():\n",
        "    if len(data[(data[\"drugName\"]==medic)].condition.mode())>0 :\n",
        "        frequent = data[(data[\"drugName\"]==medic)].condition.mode()[0]\n",
        "        print(frequent)\n",
        "        print(len(data.loc[(data[\"condition\"].isna()) & (data[\"drugName\"] == medic), [\"condition\"]]))\n",
        "        data.loc[(data[\"condition\"].isna()) & (data[\"drugName\"] == medic), [\"condition\"]] = frequent\n",
        "        print(len(data.loc[(data[\"condition\"].isna()) & (data[\"drugName\"] == medic), [\"condition\"]]))\n",
        "\n",
        ""
      ],
      "id": "2df91cec"
    },
    {
      "cell_type": "markdown",
      "metadata": {
        "id": "ff40cd13"
      },
      "source": [
        "## Replace symbols with correpondant character"
      ],
      "id": "ff40cd13"
    },
    {
      "cell_type": "code",
      "execution_count": null,
      "metadata": {
        "colab": {
          "base_uri": "https://localhost:8080/",
          "height": 267
        },
        "id": "17581581",
        "outputId": "3fe6b883-40ab-4b27-ecab-f7c4ecf2b10a"
      },
      "outputs": [
        {
          "output_type": "execute_result",
          "data": {
            "text/plain": [
              "                    Table Names      drugName                     condition  \\\n",
              "uniqueID                                                                      \n",
              "163740     drugsComTest_raw.csv   Mirtazapine                    Depression   \n",
              "206473     drugsComTest_raw.csv    Mesalamine  Crohn's Disease, Maintenance   \n",
              "...                         ...           ...                           ...   \n",
              "194422    drugsComTrain_raw.csv       Crestor               Atherosclerosis   \n",
              "216816    drugsComTrain_raw.csv  Rosuvastatin               Atherosclerosis   \n",
              "\n",
              "                                                     review  rating  \\\n",
              "uniqueID                                                              \n",
              "163740    \"I&#039;ve tried a few antidepressants over th...      10   \n",
              "206473    \"My son has Crohn&#039;s disease and has done ...       8   \n",
              "...                                                     ...     ...   \n",
              "194422    \"I take 10mg and my LDL cholesterol is still 1...       8   \n",
              "216816    \"I take 10mg and my LDL cholesterol is still 1...       8   \n",
              "\n",
              "               date  usefulCount  \n",
              "uniqueID                          \n",
              "163740    2/28/2012           22  \n",
              "206473    5/17/2009           17  \n",
              "...             ...          ...  \n",
              "194422    1/15/2009           29  \n",
              "216816    1/15/2009           29  \n",
              "\n",
              "[134269 rows x 7 columns]"
            ],
            "text/html": [
              "\n",
              "  <div id=\"df-dfaaf2fb-212d-429b-aef4-1534b0ac558e\">\n",
              "    <div class=\"colab-df-container\">\n",
              "      <div>\n",
              "<style scoped>\n",
              "    .dataframe tbody tr th:only-of-type {\n",
              "        vertical-align: middle;\n",
              "    }\n",
              "\n",
              "    .dataframe tbody tr th {\n",
              "        vertical-align: top;\n",
              "    }\n",
              "\n",
              "    .dataframe thead th {\n",
              "        text-align: right;\n",
              "    }\n",
              "</style>\n",
              "<table border=\"1\" class=\"dataframe\">\n",
              "  <thead>\n",
              "    <tr style=\"text-align: right;\">\n",
              "      <th></th>\n",
              "      <th>Table Names</th>\n",
              "      <th>drugName</th>\n",
              "      <th>condition</th>\n",
              "      <th>review</th>\n",
              "      <th>rating</th>\n",
              "      <th>date</th>\n",
              "      <th>usefulCount</th>\n",
              "    </tr>\n",
              "    <tr>\n",
              "      <th>uniqueID</th>\n",
              "      <th></th>\n",
              "      <th></th>\n",
              "      <th></th>\n",
              "      <th></th>\n",
              "      <th></th>\n",
              "      <th></th>\n",
              "      <th></th>\n",
              "    </tr>\n",
              "  </thead>\n",
              "  <tbody>\n",
              "    <tr>\n",
              "      <th>163740</th>\n",
              "      <td>drugsComTest_raw.csv</td>\n",
              "      <td>Mirtazapine</td>\n",
              "      <td>Depression</td>\n",
              "      <td>\"I&amp;#039;ve tried a few antidepressants over th...</td>\n",
              "      <td>10</td>\n",
              "      <td>2/28/2012</td>\n",
              "      <td>22</td>\n",
              "    </tr>\n",
              "    <tr>\n",
              "      <th>206473</th>\n",
              "      <td>drugsComTest_raw.csv</td>\n",
              "      <td>Mesalamine</td>\n",
              "      <td>Crohn's Disease, Maintenance</td>\n",
              "      <td>\"My son has Crohn&amp;#039;s disease and has done ...</td>\n",
              "      <td>8</td>\n",
              "      <td>5/17/2009</td>\n",
              "      <td>17</td>\n",
              "    </tr>\n",
              "    <tr>\n",
              "      <th>...</th>\n",
              "      <td>...</td>\n",
              "      <td>...</td>\n",
              "      <td>...</td>\n",
              "      <td>...</td>\n",
              "      <td>...</td>\n",
              "      <td>...</td>\n",
              "      <td>...</td>\n",
              "    </tr>\n",
              "    <tr>\n",
              "      <th>194422</th>\n",
              "      <td>drugsComTrain_raw.csv</td>\n",
              "      <td>Crestor</td>\n",
              "      <td>Atherosclerosis</td>\n",
              "      <td>\"I take 10mg and my LDL cholesterol is still 1...</td>\n",
              "      <td>8</td>\n",
              "      <td>1/15/2009</td>\n",
              "      <td>29</td>\n",
              "    </tr>\n",
              "    <tr>\n",
              "      <th>216816</th>\n",
              "      <td>drugsComTrain_raw.csv</td>\n",
              "      <td>Rosuvastatin</td>\n",
              "      <td>Atherosclerosis</td>\n",
              "      <td>\"I take 10mg and my LDL cholesterol is still 1...</td>\n",
              "      <td>8</td>\n",
              "      <td>1/15/2009</td>\n",
              "      <td>29</td>\n",
              "    </tr>\n",
              "  </tbody>\n",
              "</table>\n",
              "<p>134269 rows × 7 columns</p>\n",
              "</div>\n",
              "      <button class=\"colab-df-convert\" onclick=\"convertToInteractive('df-dfaaf2fb-212d-429b-aef4-1534b0ac558e')\"\n",
              "              title=\"Convert this dataframe to an interactive table.\"\n",
              "              style=\"display:none;\">\n",
              "        \n",
              "  <svg xmlns=\"http://www.w3.org/2000/svg\" height=\"24px\"viewBox=\"0 0 24 24\"\n",
              "       width=\"24px\">\n",
              "    <path d=\"M0 0h24v24H0V0z\" fill=\"none\"/>\n",
              "    <path d=\"M18.56 5.44l.94 2.06.94-2.06 2.06-.94-2.06-.94-.94-2.06-.94 2.06-2.06.94zm-11 1L8.5 8.5l.94-2.06 2.06-.94-2.06-.94L8.5 2.5l-.94 2.06-2.06.94zm10 10l.94 2.06.94-2.06 2.06-.94-2.06-.94-.94-2.06-.94 2.06-2.06.94z\"/><path d=\"M17.41 7.96l-1.37-1.37c-.4-.4-.92-.59-1.43-.59-.52 0-1.04.2-1.43.59L10.3 9.45l-7.72 7.72c-.78.78-.78 2.05 0 2.83L4 21.41c.39.39.9.59 1.41.59.51 0 1.02-.2 1.41-.59l7.78-7.78 2.81-2.81c.8-.78.8-2.07 0-2.86zM5.41 20L4 18.59l7.72-7.72 1.47 1.35L5.41 20z\"/>\n",
              "  </svg>\n",
              "      </button>\n",
              "      \n",
              "  <style>\n",
              "    .colab-df-container {\n",
              "      display:flex;\n",
              "      flex-wrap:wrap;\n",
              "      gap: 12px;\n",
              "    }\n",
              "\n",
              "    .colab-df-convert {\n",
              "      background-color: #E8F0FE;\n",
              "      border: none;\n",
              "      border-radius: 50%;\n",
              "      cursor: pointer;\n",
              "      display: none;\n",
              "      fill: #1967D2;\n",
              "      height: 32px;\n",
              "      padding: 0 0 0 0;\n",
              "      width: 32px;\n",
              "    }\n",
              "\n",
              "    .colab-df-convert:hover {\n",
              "      background-color: #E2EBFA;\n",
              "      box-shadow: 0px 1px 2px rgba(60, 64, 67, 0.3), 0px 1px 3px 1px rgba(60, 64, 67, 0.15);\n",
              "      fill: #174EA6;\n",
              "    }\n",
              "\n",
              "    [theme=dark] .colab-df-convert {\n",
              "      background-color: #3B4455;\n",
              "      fill: #D2E3FC;\n",
              "    }\n",
              "\n",
              "    [theme=dark] .colab-df-convert:hover {\n",
              "      background-color: #434B5C;\n",
              "      box-shadow: 0px 1px 3px 1px rgba(0, 0, 0, 0.15);\n",
              "      filter: drop-shadow(0px 1px 2px rgba(0, 0, 0, 0.3));\n",
              "      fill: #FFFFFF;\n",
              "    }\n",
              "  </style>\n",
              "\n",
              "      <script>\n",
              "        const buttonEl =\n",
              "          document.querySelector('#df-dfaaf2fb-212d-429b-aef4-1534b0ac558e button.colab-df-convert');\n",
              "        buttonEl.style.display =\n",
              "          google.colab.kernel.accessAllowed ? 'block' : 'none';\n",
              "\n",
              "        async function convertToInteractive(key) {\n",
              "          const element = document.querySelector('#df-dfaaf2fb-212d-429b-aef4-1534b0ac558e');\n",
              "          const dataTable =\n",
              "            await google.colab.kernel.invokeFunction('convertToInteractive',\n",
              "                                                     [key], {});\n",
              "          if (!dataTable) return;\n",
              "\n",
              "          const docLinkHtml = 'Like what you see? Visit the ' +\n",
              "            '<a target=\"_blank\" href=https://colab.research.google.com/notebooks/data_table.ipynb>data table notebook</a>'\n",
              "            + ' to learn more about interactive tables.';\n",
              "          element.innerHTML = '';\n",
              "          dataTable['output_type'] = 'display_data';\n",
              "          await google.colab.output.renderOutput(dataTable, element);\n",
              "          const docLink = document.createElement('div');\n",
              "          docLink.innerHTML = docLinkHtml;\n",
              "          element.appendChild(docLink);\n",
              "        }\n",
              "      </script>\n",
              "    </div>\n",
              "  </div>\n",
              "  "
            ]
          },
          "metadata": {},
          "execution_count": 50
        }
      ],
      "source": [
        "# Before replacing the symbol &#039;\n",
        "data[data[\"review\"].str.contains(\"&#039;\")==True]"
      ],
      "id": "17581581"
    },
    {
      "cell_type": "code",
      "execution_count": null,
      "metadata": {
        "colab": {
          "base_uri": "https://localhost:8080/",
          "height": 353
        },
        "id": "05b67505",
        "outputId": "9c3fb698-4dc4-48e0-91f9-b961843bc801"
      },
      "outputs": [
        {
          "output_type": "error",
          "ename": "IndexError",
          "evalue": "ignored",
          "traceback": [
            "\u001b[0;31m---------------------------------------------------------------------------\u001b[0m",
            "\u001b[0;31mIndexError\u001b[0m                                Traceback (most recent call last)",
            "\u001b[0;32m<ipython-input-52-aad1111ced15>\u001b[0m in \u001b[0;36m<module>\u001b[0;34m()\u001b[0m\n\u001b[1;32m      2\u001b[0m     \u001b[0mnewvalue\u001b[0m \u001b[0;34m=\u001b[0m \u001b[0mrow\u001b[0m\u001b[0;34m[\u001b[0m\u001b[0;34m\"review\"\u001b[0m\u001b[0;34m]\u001b[0m\u001b[0;34m\u001b[0m\u001b[0;34m\u001b[0m\u001b[0m\n\u001b[1;32m      3\u001b[0m     \u001b[0mnewvalue\u001b[0m \u001b[0;34m=\u001b[0m \u001b[0mnewvalue\u001b[0m\u001b[0;34m.\u001b[0m\u001b[0mreplace\u001b[0m\u001b[0;34m(\u001b[0m\u001b[0;34m\"&#039;\"\u001b[0m\u001b[0;34m,\u001b[0m\u001b[0;34m\"'\"\u001b[0m\u001b[0;34m)\u001b[0m\u001b[0;34m\u001b[0m\u001b[0;34m\u001b[0m\u001b[0m\n\u001b[0;32m----> 4\u001b[0;31m     \u001b[0mdata\u001b[0m\u001b[0;34m.\u001b[0m\u001b[0miloc\u001b[0m\u001b[0;34m[\u001b[0m\u001b[0mi\u001b[0m\u001b[0;34m,\u001b[0m\u001b[0;36m2\u001b[0m\u001b[0;34m]\u001b[0m \u001b[0;34m=\u001b[0m \u001b[0mnewvalue\u001b[0m\u001b[0;34m\u001b[0m\u001b[0;34m\u001b[0m\u001b[0m\n\u001b[0m",
            "\u001b[0;32m/usr/local/lib/python3.7/dist-packages/pandas/core/indexing.py\u001b[0m in \u001b[0;36m__setitem__\u001b[0;34m(self, key, value)\u001b[0m\n\u001b[1;32m    718\u001b[0m             \u001b[0mkey\u001b[0m \u001b[0;34m=\u001b[0m \u001b[0mcom\u001b[0m\u001b[0;34m.\u001b[0m\u001b[0mapply_if_callable\u001b[0m\u001b[0;34m(\u001b[0m\u001b[0mkey\u001b[0m\u001b[0;34m,\u001b[0m \u001b[0mself\u001b[0m\u001b[0;34m.\u001b[0m\u001b[0mobj\u001b[0m\u001b[0;34m)\u001b[0m\u001b[0;34m\u001b[0m\u001b[0;34m\u001b[0m\u001b[0m\n\u001b[1;32m    719\u001b[0m         \u001b[0mindexer\u001b[0m \u001b[0;34m=\u001b[0m \u001b[0mself\u001b[0m\u001b[0;34m.\u001b[0m\u001b[0m_get_setitem_indexer\u001b[0m\u001b[0;34m(\u001b[0m\u001b[0mkey\u001b[0m\u001b[0;34m)\u001b[0m\u001b[0;34m\u001b[0m\u001b[0;34m\u001b[0m\u001b[0m\n\u001b[0;32m--> 720\u001b[0;31m         \u001b[0mself\u001b[0m\u001b[0;34m.\u001b[0m\u001b[0m_has_valid_setitem_indexer\u001b[0m\u001b[0;34m(\u001b[0m\u001b[0mkey\u001b[0m\u001b[0;34m)\u001b[0m\u001b[0;34m\u001b[0m\u001b[0;34m\u001b[0m\u001b[0m\n\u001b[0m\u001b[1;32m    721\u001b[0m \u001b[0;34m\u001b[0m\u001b[0m\n\u001b[1;32m    722\u001b[0m         \u001b[0miloc\u001b[0m \u001b[0;34m=\u001b[0m \u001b[0mself\u001b[0m \u001b[0;32mif\u001b[0m \u001b[0mself\u001b[0m\u001b[0;34m.\u001b[0m\u001b[0mname\u001b[0m \u001b[0;34m==\u001b[0m \u001b[0;34m\"iloc\"\u001b[0m \u001b[0;32melse\u001b[0m \u001b[0mself\u001b[0m\u001b[0;34m.\u001b[0m\u001b[0mobj\u001b[0m\u001b[0;34m.\u001b[0m\u001b[0miloc\u001b[0m\u001b[0;34m\u001b[0m\u001b[0;34m\u001b[0m\u001b[0m\n",
            "\u001b[0;32m/usr/local/lib/python3.7/dist-packages/pandas/core/indexing.py\u001b[0m in \u001b[0;36m_has_valid_setitem_indexer\u001b[0;34m(self, indexer)\u001b[0m\n\u001b[1;32m   1459\u001b[0m             \u001b[0;32melif\u001b[0m \u001b[0mis_integer\u001b[0m\u001b[0;34m(\u001b[0m\u001b[0mi\u001b[0m\u001b[0;34m)\u001b[0m\u001b[0;34m:\u001b[0m\u001b[0;34m\u001b[0m\u001b[0;34m\u001b[0m\u001b[0m\n\u001b[1;32m   1460\u001b[0m                 \u001b[0;32mif\u001b[0m \u001b[0mi\u001b[0m \u001b[0;34m>=\u001b[0m \u001b[0mlen\u001b[0m\u001b[0;34m(\u001b[0m\u001b[0max\u001b[0m\u001b[0;34m)\u001b[0m\u001b[0;34m:\u001b[0m\u001b[0;34m\u001b[0m\u001b[0;34m\u001b[0m\u001b[0m\n\u001b[0;32m-> 1461\u001b[0;31m                     \u001b[0;32mraise\u001b[0m \u001b[0mIndexError\u001b[0m\u001b[0;34m(\u001b[0m\u001b[0;34m\"iloc cannot enlarge its target object\"\u001b[0m\u001b[0;34m)\u001b[0m\u001b[0;34m\u001b[0m\u001b[0;34m\u001b[0m\u001b[0m\n\u001b[0m\u001b[1;32m   1462\u001b[0m             \u001b[0;32melif\u001b[0m \u001b[0misinstance\u001b[0m\u001b[0;34m(\u001b[0m\u001b[0mi\u001b[0m\u001b[0;34m,\u001b[0m \u001b[0mdict\u001b[0m\u001b[0;34m)\u001b[0m\u001b[0;34m:\u001b[0m\u001b[0;34m\u001b[0m\u001b[0;34m\u001b[0m\u001b[0m\n\u001b[1;32m   1463\u001b[0m                 \u001b[0;32mraise\u001b[0m \u001b[0mIndexError\u001b[0m\u001b[0;34m(\u001b[0m\u001b[0;34m\"iloc cannot enlarge its target object\"\u001b[0m\u001b[0;34m)\u001b[0m\u001b[0;34m\u001b[0m\u001b[0;34m\u001b[0m\u001b[0m\n",
            "\u001b[0;31mIndexError\u001b[0m: iloc cannot enlarge its target object"
          ]
        }
      ],
      "source": [
        "for i, row in data.iterrows():\n",
        "    newvalue = row[\"review\"]\n",
        "    newvalue = newvalue.replace(\"&#039;\",\"'\")\n",
        "    data.iloc[i,] = newvalue"
      ],
      "id": "05b67505"
    },
    {
      "cell_type": "code",
      "execution_count": null,
      "metadata": {
        "id": "11647129"
      },
      "outputs": [],
      "source": [
        "#After Replacing the symbol\n",
        "data[data[\"review\"].str.contains(\"&#039;\")==True]"
      ],
      "id": "11647129"
    },
    {
      "cell_type": "code",
      "execution_count": null,
      "metadata": {
        "id": "9dedd62e"
      },
      "outputs": [],
      "source": [
        "# Before replacing the symbol &amp;\n",
        "data[data[\"review\"].str.contains(\"&amp;\")==True]"
      ],
      "id": "9dedd62e"
    },
    {
      "cell_type": "code",
      "execution_count": null,
      "metadata": {
        "id": "de274f24"
      },
      "outputs": [],
      "source": [
        "for i, row in data.iterrows():\n",
        "    newvalue = row[\"review\"]\n",
        "    newvalue = newvalue.replace(\"&amp;\",\"and\")\n",
        "    data.iloc[i,3] = newvalue"
      ],
      "id": "de274f24"
    },
    {
      "cell_type": "code",
      "execution_count": null,
      "metadata": {
        "id": "fd00e7c7"
      },
      "outputs": [],
      "source": [
        "#After Replacing the symbol &amp;\n",
        "data[data[\"review\"].str.contains(\"&amp;\")==True]"
      ],
      "id": "fd00e7c7"
    },
    {
      "cell_type": "code",
      "execution_count": null,
      "metadata": {
        "id": "bafd1d5d"
      },
      "outputs": [],
      "source": [
        "for i,row in data[data[\"review\"].str.contains(\"&\")==True].iterrows():\n",
        "    text = row[\"review\"]"
      ],
      "id": "bafd1d5d"
    },
    {
      "cell_type": "code",
      "execution_count": null,
      "metadata": {
        "id": "0d4c90e7"
      },
      "outputs": [],
      "source": [
        "text"
      ],
      "id": "0d4c90e7"
    },
    {
      "cell_type": "code",
      "execution_count": null,
      "metadata": {
        "id": "3c8bbb32"
      },
      "outputs": [],
      "source": [
        "for i, row in data.iterrows():\n",
        "    newvalue = row[\"review\"]\n",
        "    newvalue = newvalue.replace(\"&quot;\",'\"')\n",
        "    data.iloc[i,3] = newvalue"
      ],
      "id": "3c8bbb32"
    },
    {
      "cell_type": "code",
      "execution_count": null,
      "metadata": {
        "id": "ff77fde5"
      },
      "outputs": [],
      "source": [
        "for i, row in data.iterrows():\n",
        "    newvalue = row[\"review\"]\n",
        "    newvalue = newvalue.replace(\"&rsquo;\",\"'\")\n",
        "    data.iloc[i,3] = newvalue"
      ],
      "id": "ff77fde5"
    },
    {
      "cell_type": "code",
      "execution_count": null,
      "metadata": {
        "id": "5817f1eb"
      },
      "outputs": [],
      "source": [
        "for i, row in data.iterrows():\n",
        "    newvalue = row[\"review\"]\n",
        "    newvalue = newvalue.replace(\"&ldquo;\",'\"')\n",
        "    data.iloc[i,3] = newvalue"
      ],
      "id": "5817f1eb"
    },
    {
      "cell_type": "code",
      "execution_count": null,
      "metadata": {
        "id": "33fc4168"
      },
      "outputs": [],
      "source": [
        "for i, row in data.iterrows():\n",
        "    newvalue = row[\"review\"]\n",
        "    newvalue = newvalue.replace(\"&rdquo;\",'\"')\n",
        "    data.iloc[i,3] = newvalue"
      ],
      "id": "33fc4168"
    },
    {
      "cell_type": "code",
      "execution_count": null,
      "metadata": {
        "id": "485f5c12"
      },
      "outputs": [],
      "source": [
        "for i, row in data.iterrows():\n",
        "    newvalue = row[\"review\"]\n",
        "    newvalue = newvalue.replace(\"&lrm;\",'')\n",
        "    data.iloc[i,3] = newvalue"
      ],
      "id": "485f5c12"
    },
    {
      "cell_type": "code",
      "execution_count": null,
      "metadata": {
        "id": "99b216d9"
      },
      "outputs": [],
      "source": [
        "for i, row in data.iterrows():\n",
        "    newvalue = row[\"review\"]\n",
        "    newvalue = newvalue.replace(\"&gt;\",'>')\n",
        "    data.iloc[i,3] = newvalue"
      ],
      "id": "99b216d9"
    },
    {
      "cell_type": "code",
      "execution_count": null,
      "metadata": {
        "id": "12207c23"
      },
      "outputs": [],
      "source": [
        "for i, row in data.iterrows():\n",
        "    newvalue = row[\"review\"]\n",
        "    newvalue = newvalue.replace(\"&pound;\",'£')\n",
        "    data.iloc[i,3] = newvalue"
      ],
      "id": "12207c23"
    },
    {
      "cell_type": "code",
      "execution_count": null,
      "metadata": {
        "id": "6baea026"
      },
      "outputs": [],
      "source": [
        "for i, row in data.iterrows():\n",
        "    newvalue = row[\"review\"]\n",
        "    newvalue = newvalue.replace(\"&lsquo;\",\"'\")\n",
        "    data.iloc[i,3] = newvalue"
      ],
      "id": "6baea026"
    },
    {
      "cell_type": "code",
      "execution_count": null,
      "metadata": {
        "id": "cdad5872"
      },
      "outputs": [],
      "source": [
        "for i, row in data.iterrows():\n",
        "    newvalue = row[\"review\"]\n",
        "    newvalue = newvalue.replace(\"&ntilde;\",\"n\")\n",
        "    data.iloc[i,3] = newvalue\n"
      ],
      "id": "cdad5872"
    },
    {
      "cell_type": "code",
      "execution_count": null,
      "metadata": {
        "id": "c1f1a3ac"
      },
      "outputs": [],
      "source": [
        "for i, row in data.iterrows():\n",
        "    newvalue = row[\"review\"]\n",
        "    newvalue = newvalue.replace(\"&mdash;\",\"-\")\n",
        "    data.iloc[i,3] = newvalue"
      ],
      "id": "c1f1a3ac"
    },
    {
      "cell_type": "code",
      "execution_count": null,
      "metadata": {
        "id": "77373275"
      },
      "outputs": [],
      "source": [
        "for i, row in data.iterrows():\n",
        "    newvalue = row[\"review\"]\n",
        "    newvalue = newvalue.replace(\"&hellip;\",\"...\")\n",
        "    data.iloc[i,3] = newvalue"
      ],
      "id": "77373275"
    },
    {
      "cell_type": "code",
      "execution_count": null,
      "metadata": {
        "id": "b4abf550"
      },
      "outputs": [],
      "source": [
        "for i, row in data.iterrows():\n",
        "    newvalue = row[\"review\"]\n",
        "    newvalue = newvalue.replace(\"&eacute;\",\"é\")\n",
        "    data.iloc[i,3] = newvalue"
      ],
      "id": "b4abf550"
    },
    {
      "cell_type": "code",
      "execution_count": null,
      "metadata": {
        "id": "6bb0598d"
      },
      "outputs": [],
      "source": [
        "for i, row in data.iterrows():\n",
        "    newvalue = row[\"review\"]\n",
        "    newvalue = newvalue.replace(\"&lt;\",\"<\")\n",
        "    data.iloc[i,3] = newvalue"
      ],
      "id": "6bb0598d"
    },
    {
      "cell_type": "code",
      "execution_count": null,
      "metadata": {
        "id": "786e8014"
      },
      "outputs": [],
      "source": [
        "for i, row in data.iterrows():\n",
        "    newvalue = row[\"review\"]\n",
        "    newvalue = newvalue.replace(\"&deg;\",\" degrees\")\n",
        "    data.iloc[i,3] = newvalue"
      ],
      "id": "786e8014"
    },
    {
      "cell_type": "code",
      "execution_count": null,
      "metadata": {
        "id": "c5dc05b0",
        "outputId": "a70bc673-a8ba-406b-abfe-6bbebeb706aa",
        "colab": {
          "base_uri": "https://localhost:8080/",
          "height": 267
        }
      },
      "outputs": [
        {
          "output_type": "execute_result",
          "data": {
            "text/plain": [
              "                    Table Names      drugName                     condition  \\\n",
              "uniqueID                                                                      \n",
              "163740     drugsComTest_raw.csv   Mirtazapine                    Depression   \n",
              "206473     drugsComTest_raw.csv    Mesalamine  Crohn's Disease, Maintenance   \n",
              "...                         ...           ...                           ...   \n",
              "194422    drugsComTrain_raw.csv       Crestor               Atherosclerosis   \n",
              "216816    drugsComTrain_raw.csv  Rosuvastatin               Atherosclerosis   \n",
              "\n",
              "                                                     review  rating  \\\n",
              "uniqueID                                                              \n",
              "163740    \"I&#039;ve tried a few antidepressants over th...      10   \n",
              "206473    \"My son has Crohn&#039;s disease and has done ...       8   \n",
              "...                                                     ...     ...   \n",
              "194422    \"I take 10mg and my LDL cholesterol is still 1...       8   \n",
              "216816    \"I take 10mg and my LDL cholesterol is still 1...       8   \n",
              "\n",
              "               date  usefulCount  \n",
              "uniqueID                          \n",
              "163740    2/28/2012           22  \n",
              "206473    5/17/2009           17  \n",
              "...             ...          ...  \n",
              "194422    1/15/2009           29  \n",
              "216816    1/15/2009           29  \n",
              "\n",
              "[140528 rows x 7 columns]"
            ],
            "text/html": [
              "\n",
              "  <div id=\"df-505b1556-0d35-4acf-af05-cb971b1f2075\">\n",
              "    <div class=\"colab-df-container\">\n",
              "      <div>\n",
              "<style scoped>\n",
              "    .dataframe tbody tr th:only-of-type {\n",
              "        vertical-align: middle;\n",
              "    }\n",
              "\n",
              "    .dataframe tbody tr th {\n",
              "        vertical-align: top;\n",
              "    }\n",
              "\n",
              "    .dataframe thead th {\n",
              "        text-align: right;\n",
              "    }\n",
              "</style>\n",
              "<table border=\"1\" class=\"dataframe\">\n",
              "  <thead>\n",
              "    <tr style=\"text-align: right;\">\n",
              "      <th></th>\n",
              "      <th>Table Names</th>\n",
              "      <th>drugName</th>\n",
              "      <th>condition</th>\n",
              "      <th>review</th>\n",
              "      <th>rating</th>\n",
              "      <th>date</th>\n",
              "      <th>usefulCount</th>\n",
              "    </tr>\n",
              "    <tr>\n",
              "      <th>uniqueID</th>\n",
              "      <th></th>\n",
              "      <th></th>\n",
              "      <th></th>\n",
              "      <th></th>\n",
              "      <th></th>\n",
              "      <th></th>\n",
              "      <th></th>\n",
              "    </tr>\n",
              "  </thead>\n",
              "  <tbody>\n",
              "    <tr>\n",
              "      <th>163740</th>\n",
              "      <td>drugsComTest_raw.csv</td>\n",
              "      <td>Mirtazapine</td>\n",
              "      <td>Depression</td>\n",
              "      <td>\"I&amp;#039;ve tried a few antidepressants over th...</td>\n",
              "      <td>10</td>\n",
              "      <td>2/28/2012</td>\n",
              "      <td>22</td>\n",
              "    </tr>\n",
              "    <tr>\n",
              "      <th>206473</th>\n",
              "      <td>drugsComTest_raw.csv</td>\n",
              "      <td>Mesalamine</td>\n",
              "      <td>Crohn's Disease, Maintenance</td>\n",
              "      <td>\"My son has Crohn&amp;#039;s disease and has done ...</td>\n",
              "      <td>8</td>\n",
              "      <td>5/17/2009</td>\n",
              "      <td>17</td>\n",
              "    </tr>\n",
              "    <tr>\n",
              "      <th>...</th>\n",
              "      <td>...</td>\n",
              "      <td>...</td>\n",
              "      <td>...</td>\n",
              "      <td>...</td>\n",
              "      <td>...</td>\n",
              "      <td>...</td>\n",
              "      <td>...</td>\n",
              "    </tr>\n",
              "    <tr>\n",
              "      <th>194422</th>\n",
              "      <td>drugsComTrain_raw.csv</td>\n",
              "      <td>Crestor</td>\n",
              "      <td>Atherosclerosis</td>\n",
              "      <td>\"I take 10mg and my LDL cholesterol is still 1...</td>\n",
              "      <td>8</td>\n",
              "      <td>1/15/2009</td>\n",
              "      <td>29</td>\n",
              "    </tr>\n",
              "    <tr>\n",
              "      <th>216816</th>\n",
              "      <td>drugsComTrain_raw.csv</td>\n",
              "      <td>Rosuvastatin</td>\n",
              "      <td>Atherosclerosis</td>\n",
              "      <td>\"I take 10mg and my LDL cholesterol is still 1...</td>\n",
              "      <td>8</td>\n",
              "      <td>1/15/2009</td>\n",
              "      <td>29</td>\n",
              "    </tr>\n",
              "  </tbody>\n",
              "</table>\n",
              "<p>140528 rows × 7 columns</p>\n",
              "</div>\n",
              "      <button class=\"colab-df-convert\" onclick=\"convertToInteractive('df-505b1556-0d35-4acf-af05-cb971b1f2075')\"\n",
              "              title=\"Convert this dataframe to an interactive table.\"\n",
              "              style=\"display:none;\">\n",
              "        \n",
              "  <svg xmlns=\"http://www.w3.org/2000/svg\" height=\"24px\"viewBox=\"0 0 24 24\"\n",
              "       width=\"24px\">\n",
              "    <path d=\"M0 0h24v24H0V0z\" fill=\"none\"/>\n",
              "    <path d=\"M18.56 5.44l.94 2.06.94-2.06 2.06-.94-2.06-.94-.94-2.06-.94 2.06-2.06.94zm-11 1L8.5 8.5l.94-2.06 2.06-.94-2.06-.94L8.5 2.5l-.94 2.06-2.06.94zm10 10l.94 2.06.94-2.06 2.06-.94-2.06-.94-.94-2.06-.94 2.06-2.06.94z\"/><path d=\"M17.41 7.96l-1.37-1.37c-.4-.4-.92-.59-1.43-.59-.52 0-1.04.2-1.43.59L10.3 9.45l-7.72 7.72c-.78.78-.78 2.05 0 2.83L4 21.41c.39.39.9.59 1.41.59.51 0 1.02-.2 1.41-.59l7.78-7.78 2.81-2.81c.8-.78.8-2.07 0-2.86zM5.41 20L4 18.59l7.72-7.72 1.47 1.35L5.41 20z\"/>\n",
              "  </svg>\n",
              "      </button>\n",
              "      \n",
              "  <style>\n",
              "    .colab-df-container {\n",
              "      display:flex;\n",
              "      flex-wrap:wrap;\n",
              "      gap: 12px;\n",
              "    }\n",
              "\n",
              "    .colab-df-convert {\n",
              "      background-color: #E8F0FE;\n",
              "      border: none;\n",
              "      border-radius: 50%;\n",
              "      cursor: pointer;\n",
              "      display: none;\n",
              "      fill: #1967D2;\n",
              "      height: 32px;\n",
              "      padding: 0 0 0 0;\n",
              "      width: 32px;\n",
              "    }\n",
              "\n",
              "    .colab-df-convert:hover {\n",
              "      background-color: #E2EBFA;\n",
              "      box-shadow: 0px 1px 2px rgba(60, 64, 67, 0.3), 0px 1px 3px 1px rgba(60, 64, 67, 0.15);\n",
              "      fill: #174EA6;\n",
              "    }\n",
              "\n",
              "    [theme=dark] .colab-df-convert {\n",
              "      background-color: #3B4455;\n",
              "      fill: #D2E3FC;\n",
              "    }\n",
              "\n",
              "    [theme=dark] .colab-df-convert:hover {\n",
              "      background-color: #434B5C;\n",
              "      box-shadow: 0px 1px 3px 1px rgba(0, 0, 0, 0.15);\n",
              "      filter: drop-shadow(0px 1px 2px rgba(0, 0, 0, 0.3));\n",
              "      fill: #FFFFFF;\n",
              "    }\n",
              "  </style>\n",
              "\n",
              "      <script>\n",
              "        const buttonEl =\n",
              "          document.querySelector('#df-505b1556-0d35-4acf-af05-cb971b1f2075 button.colab-df-convert');\n",
              "        buttonEl.style.display =\n",
              "          google.colab.kernel.accessAllowed ? 'block' : 'none';\n",
              "\n",
              "        async function convertToInteractive(key) {\n",
              "          const element = document.querySelector('#df-505b1556-0d35-4acf-af05-cb971b1f2075');\n",
              "          const dataTable =\n",
              "            await google.colab.kernel.invokeFunction('convertToInteractive',\n",
              "                                                     [key], {});\n",
              "          if (!dataTable) return;\n",
              "\n",
              "          const docLinkHtml = 'Like what you see? Visit the ' +\n",
              "            '<a target=\"_blank\" href=https://colab.research.google.com/notebooks/data_table.ipynb>data table notebook</a>'\n",
              "            + ' to learn more about interactive tables.';\n",
              "          element.innerHTML = '';\n",
              "          dataTable['output_type'] = 'display_data';\n",
              "          await google.colab.output.renderOutput(dataTable, element);\n",
              "          const docLink = document.createElement('div');\n",
              "          docLink.innerHTML = docLinkHtml;\n",
              "          element.appendChild(docLink);\n",
              "        }\n",
              "      </script>\n",
              "    </div>\n",
              "  </div>\n",
              "  "
            ]
          },
          "metadata": {},
          "execution_count": 56
        }
      ],
      "source": [
        "data[data[\"review\"].str.contains(\"&\")==True]"
      ],
      "id": "c5dc05b0"
    },
    {
      "cell_type": "code",
      "execution_count": null,
      "metadata": {
        "id": "f5e3567d"
      },
      "outputs": [],
      "source": [],
      "id": "f5e3567d"
    },
    {
      "cell_type": "markdown",
      "metadata": {
        "id": "06e23bbc"
      },
      "source": [
        "## Step"
      ],
      "id": "06e23bbc"
    },
    {
      "cell_type": "code",
      "execution_count": null,
      "metadata": {
        "id": "df239daa",
        "outputId": "fd3f9680-1137-4d2f-a044-d49ae06f2229",
        "colab": {
          "base_uri": "https://localhost:8080/",
          "height": 329
        }
      },
      "outputs": [
        {
          "output_type": "error",
          "ename": "AttributeError",
          "evalue": "ignored",
          "traceback": [
            "\u001b[0;31m---------------------------------------------------------------------------\u001b[0m",
            "\u001b[0;31mAttributeError\u001b[0m                            Traceback (most recent call last)",
            "\u001b[0;32m<ipython-input-57-e57c68821b06>\u001b[0m in \u001b[0;36m<module>\u001b[0;34m()\u001b[0m\n\u001b[1;32m      2\u001b[0m     \u001b[0mfeedback\u001b[0m \u001b[0;34m=\u001b[0m \u001b[0mline\u001b[0m\u001b[0;34m[\u001b[0m\u001b[0;36m1\u001b[0m\u001b[0;34m]\u001b[0m\u001b[0;34m.\u001b[0m\u001b[0mvalues\u001b[0m\u001b[0;34m[\u001b[0m\u001b[0;36m3\u001b[0m\u001b[0;34m]\u001b[0m\u001b[0;34m\u001b[0m\u001b[0;34m\u001b[0m\u001b[0m\n\u001b[1;32m      3\u001b[0m     \u001b[0mblob\u001b[0m \u001b[0;34m=\u001b[0m \u001b[0mTextBlob\u001b[0m\u001b[0;34m(\u001b[0m\u001b[0mfeedback\u001b[0m\u001b[0;34m)\u001b[0m\u001b[0;34m\u001b[0m\u001b[0;34m\u001b[0m\u001b[0m\n\u001b[0;32m----> 4\u001b[0;31m     \u001b[0mdata\u001b[0m\u001b[0;34m.\u001b[0m\u001b[0mloc\u001b[0m\u001b[0;34m[\u001b[0m\u001b[0mdata\u001b[0m\u001b[0;34m.\u001b[0m\u001b[0muniqueID\u001b[0m \u001b[0;34m==\u001b[0m \u001b[0mline\u001b[0m\u001b[0;34m[\u001b[0m\u001b[0;36m1\u001b[0m\u001b[0;34m]\u001b[0m\u001b[0;34m.\u001b[0m\u001b[0mvalues\u001b[0m\u001b[0;34m[\u001b[0m\u001b[0;36m0\u001b[0m\u001b[0;34m]\u001b[0m\u001b[0;34m,\u001b[0m\u001b[0;34m\"blob\"\u001b[0m\u001b[0;34m]\u001b[0m  \u001b[0;34m=\u001b[0m \u001b[0mblob\u001b[0m\u001b[0;34m.\u001b[0m\u001b[0msentiment\u001b[0m\u001b[0;34m[\u001b[0m\u001b[0;36m0\u001b[0m\u001b[0;34m]\u001b[0m\u001b[0;34m\u001b[0m\u001b[0;34m\u001b[0m\u001b[0m\n\u001b[0m",
            "\u001b[0;32m/usr/local/lib/python3.7/dist-packages/pandas/core/generic.py\u001b[0m in \u001b[0;36m__getattr__\u001b[0;34m(self, name)\u001b[0m\n\u001b[1;32m   5485\u001b[0m         ):\n\u001b[1;32m   5486\u001b[0m             \u001b[0;32mreturn\u001b[0m \u001b[0mself\u001b[0m\u001b[0;34m[\u001b[0m\u001b[0mname\u001b[0m\u001b[0;34m]\u001b[0m\u001b[0;34m\u001b[0m\u001b[0;34m\u001b[0m\u001b[0m\n\u001b[0;32m-> 5487\u001b[0;31m         \u001b[0;32mreturn\u001b[0m \u001b[0mobject\u001b[0m\u001b[0;34m.\u001b[0m\u001b[0m__getattribute__\u001b[0m\u001b[0;34m(\u001b[0m\u001b[0mself\u001b[0m\u001b[0;34m,\u001b[0m \u001b[0mname\u001b[0m\u001b[0;34m)\u001b[0m\u001b[0;34m\u001b[0m\u001b[0;34m\u001b[0m\u001b[0m\n\u001b[0m\u001b[1;32m   5488\u001b[0m \u001b[0;34m\u001b[0m\u001b[0m\n\u001b[1;32m   5489\u001b[0m     \u001b[0;32mdef\u001b[0m \u001b[0m__setattr__\u001b[0m\u001b[0;34m(\u001b[0m\u001b[0mself\u001b[0m\u001b[0;34m,\u001b[0m \u001b[0mname\u001b[0m\u001b[0;34m:\u001b[0m \u001b[0mstr\u001b[0m\u001b[0;34m,\u001b[0m \u001b[0mvalue\u001b[0m\u001b[0;34m)\u001b[0m \u001b[0;34m->\u001b[0m \u001b[0;32mNone\u001b[0m\u001b[0;34m:\u001b[0m\u001b[0;34m\u001b[0m\u001b[0;34m\u001b[0m\u001b[0m\n",
            "\u001b[0;31mAttributeError\u001b[0m: 'DataFrame' object has no attribute 'uniqueID'"
          ]
        }
      ],
      "source": [
        "for line in data.iterrows():\n",
        "    feedback = line[1].values[3]\n",
        "    blob = TextBlob(feedback)\n",
        "    data.loc[data.uniqueID == line[1].values[0],\"blob\"]  = blob.sentiment[0]"
      ],
      "id": "df239daa"
    },
    {
      "cell_type": "code",
      "execution_count": null,
      "metadata": {
        "id": "b312a8f6"
      },
      "outputs": [],
      "source": [
        "data.loc[1,\"review\"]"
      ],
      "id": "b312a8f6"
    },
    {
      "cell_type": "code",
      "execution_count": null,
      "metadata": {
        "id": "9328d926"
      },
      "outputs": [],
      "source": [
        "data.head(50)"
      ],
      "id": "9328d926"
    },
    {
      "cell_type": "code",
      "execution_count": null,
      "metadata": {
        "id": "5265e81c"
      },
      "outputs": [],
      "source": [
        "data[\"condition\"].value_counts()"
      ],
      "id": "5265e81c"
    },
    {
      "cell_type": "markdown",
      "metadata": {
        "id": "f9a49306"
      },
      "source": [
        "# Stemming and lemmatization"
      ],
      "id": "f9a49306"
    },
    {
      "cell_type": "code",
      "execution_count": null,
      "metadata": {
        "id": "7d652fd2"
      },
      "outputs": [],
      "source": [
        "import nltk\n",
        "from nltk.tokenize import word_tokenize\n",
        "from nltk.corpus import stopwords\n",
        "from nltk.stem import PorterStemmer\n",
        "\n",
        "porter=PorterStemmer()\n",
        "\n",
        "\n",
        "example1 = \"Hello world, how are you. Did you know that the weather is beautiful outside ? \\\n",
        "            I am going to go out and walk in the rain !\"\n",
        "\n",
        "def remove_stop_words_punc (text, stop_words):\n",
        "    words= text.split\n",
        "    list_words = [w for w in word_tokenize(text) if not w in stop_words]\n",
        "    recons_text = \" \".join(list_words)\n",
        "    recons_text = recons_text.translate(str.maketrans(\"\",\"\", string.punctuation))\n",
        "    recons_text = \"\".join([i for i in recons_text if not i.isdigit()])\n",
        "    while \"  \" in recons_text :\n",
        "        recons_text = recons_text.replace(\"  \", \" \")\n",
        "    return recons_text\n",
        "\n",
        "def stemming(sentence):\n",
        "    token_words=word_tokenize(sentence)\n",
        "    token_words\n",
        "    stem_sentence=[]\n",
        "    for word in token_words:\n",
        "        stem_sentence.append(porter.stem(word))\n",
        "        stem_sentence.append(\" \")\n",
        "    return \"\".join(stem_sentence)"
      ],
      "id": "7d652fd2"
    },
    {
      "cell_type": "code",
      "execution_count": null,
      "metadata": {
        "id": "6b52af6a"
      },
      "outputs": [],
      "source": [
        "import numpy as np"
      ],
      "id": "6b52af6a"
    },
    {
      "cell_type": "code",
      "execution_count": null,
      "metadata": {
        "id": "94f98259"
      },
      "outputs": [],
      "source": [
        "stop_words = set(stopwords.words('english'))\n",
        "data[\"new_review\"] = np.NaN\n",
        "for i, row in data.iterrows():\n",
        "    newvalue = row[\"review\"]\n",
        "    newvalue = stemming(remove_stop_words_punc(newvalue, stop_words))\n",
        "    data.iloc[i,7] = newvalue\n",
        "stemming(remove_stop_words_punc(example1, stop_words))"
      ],
      "id": "94f98259"
    },
    {
      "cell_type": "code",
      "execution_count": null,
      "metadata": {
        "id": "0b72c632"
      },
      "outputs": [],
      "source": [
        "data"
      ],
      "id": "0b72c632"
    },
    {
      "cell_type": "code",
      "execution_count": null,
      "metadata": {
        "id": "3f672fae"
      },
      "outputs": [],
      "source": [
        "for line in data.iterrows():\n",
        "    feedback = line[1].values[7]\n",
        "    blob = TextBlob(feedback)\n",
        "    data.loc[data.uniqueID == line[1].values[0],\"blob\"]  = blob.sentiment[0]"
      ],
      "id": "3f672fae"
    },
    {
      "cell_type": "code",
      "execution_count": null,
      "metadata": {
        "id": "0b4e655d"
      },
      "outputs": [],
      "source": [
        "data.head(50)"
      ],
      "id": "0b4e655d"
    },
    {
      "cell_type": "code",
      "execution_count": null,
      "metadata": {
        "id": "83d017d1"
      },
      "outputs": [],
      "source": [
        "sample_data= data.sample(frac=0.2)\n",
        "len(data)\n",
        "#len(sample_data)"
      ],
      "id": "83d017d1"
    },
    {
      "cell_type": "code",
      "execution_count": null,
      "metadata": {
        "id": "b8ebc6b9"
      },
      "outputs": [],
      "source": [],
      "id": "b8ebc6b9"
    },
    {
      "cell_type": "markdown",
      "metadata": {
        "id": "c9e11f8f"
      },
      "source": [
        "# NLTK"
      ],
      "id": "c9e11f8f"
    },
    {
      "cell_type": "code",
      "execution_count": null,
      "metadata": {
        "id": "7f72f761"
      },
      "outputs": [],
      "source": [
        "import nltk\n",
        "from nltk.tokenize import word_tokenize\n",
        "from nltk.corpus import stopwords\n",
        "\n"
      ],
      "id": "7f72f761"
    },
    {
      "cell_type": "code",
      "execution_count": null,
      "metadata": {
        "id": "cd0be403"
      },
      "outputs": [],
      "source": [
        "# nltk.download()\n",
        "# then downloaded all libraries"
      ],
      "id": "cd0be403"
    },
    {
      "cell_type": "code",
      "execution_count": null,
      "metadata": {
        "id": "8a8bedea"
      },
      "outputs": [],
      "source": [
        "from nltk.tokenize import sent_tokenize, word_tokenize"
      ],
      "id": "8a8bedea"
    },
    {
      "cell_type": "code",
      "execution_count": null,
      "metadata": {
        "id": "62deefa3"
      },
      "outputs": [],
      "source": [
        "example1 = \"Hello world, how are you. Did you know that the waether is beautiful outside ? \\\n",
        "            I am going to go out and walk in the rain !\"\n",
        "print(sent_tokenize(example))\n",
        "print(word_tokenize(example))"
      ],
      "id": "62deefa3"
    },
    {
      "cell_type": "code",
      "execution_count": null,
      "metadata": {
        "id": "d5b4f107"
      },
      "outputs": [],
      "source": [
        "from nltk.corpus import stopwords\n",
        "from nltk.tokenize import word_tokenize\n",
        "\n",
        "\n",
        "example2= \"This is an excelent idea ! You are awsome!\"\n",
        "stop_words = set(stopwords.words('english'))\n",
        "print(stop_words)"
      ],
      "id": "d5b4f107"
    },
    {
      "cell_type": "code",
      "execution_count": null,
      "metadata": {
        "id": "c767b1f7"
      },
      "outputs": [],
      "source": [
        "print([w for w in word_tokenize(example2) if not w in stop_words])"
      ],
      "id": "c767b1f7"
    },
    {
      "cell_type": "code",
      "execution_count": null,
      "metadata": {
        "id": "deedf933"
      },
      "outputs": [],
      "source": [
        "from nltk.stem import PorterStemmer"
      ],
      "id": "deedf933"
    },
    {
      "cell_type": "code",
      "execution_count": null,
      "metadata": {
        "id": "f19eca29"
      },
      "outputs": [],
      "source": [
        "ps_example = PorterStemmer()"
      ],
      "id": "f19eca29"
    },
    {
      "cell_type": "code",
      "execution_count": null,
      "metadata": {
        "id": "79e18cb0"
      },
      "outputs": [],
      "source": [
        "example3 = ['served', \"server\", \"service\", \"serving\"]\n",
        "print(ps_example.stem(w) for w in example3 )"
      ],
      "id": "79e18cb0"
    },
    {
      "cell_type": "code",
      "execution_count": null,
      "metadata": {
        "id": "694bdc06"
      },
      "outputs": [],
      "source": [
        "for w in example3:\n",
        "    print(ps_example.stem(w) )"
      ],
      "id": "694bdc06"
    },
    {
      "cell_type": "markdown",
      "metadata": {
        "id": "599e02df"
      },
      "source": [
        "# Another way"
      ],
      "id": "599e02df"
    },
    {
      "cell_type": "code",
      "execution_count": null,
      "metadata": {
        "id": "8f1ab779"
      },
      "outputs": [],
      "source": [
        "import pandas as pd\n",
        "from sklearn.feature_extraction.text import TfidfVectorizer\n",
        "from sklearn.cluster import KMeans\n",
        "from sklearn.metrics import adjusted_rand_score\n",
        "import string\n",
        "from nltk.corpus import stopwords\n",
        "import glob\n",
        "import json\n"
      ],
      "id": "8f1ab779"
    },
    {
      "cell_type": "code",
      "execution_count": null,
      "metadata": {
        "id": "fb877eef"
      },
      "outputs": [],
      "source": [
        "def remove_stop_words (text, stop_words):\n",
        "    words= text.split\n",
        "    list_words = [w for w in word_tokenize(text) if not w in stop_words]\n",
        "    #or\n",
        "    #for w in word_tokenize(text):\n",
        "    #    if not w in stop_words:\n",
        "    #        list_words.append(w)\n",
        "    recons_text = \" \".join(list_words)\n",
        "    recons_text = recons_text.translate(str.maketrans(\"\",\"\", string.punctuation))\n",
        "    recons_text = \"\".join([i for i in recons_text if not i.isdigit()])\n",
        "    while \"  \" in recons_text :\n",
        "        recons_text = recons_text.replace(\"  \", \" \")\n",
        "    return recons_text"
      ],
      "id": "fb877eef"
    },
    {
      "cell_type": "code",
      "execution_count": null,
      "metadata": {
        "id": "faf7f8a1"
      },
      "outputs": [],
      "source": [
        "vectorizer = TfidfVectorizer(\n",
        "                            lowercase = True,\n",
        "                            max_features = 100,\n",
        "                            max_df = 0.8,\n",
        "                            min_df = 5,\n",
        "                            ngram_range = (1,3),\n",
        "                            stop_words = \"english\"\n",
        ")\n",
        "\n",
        "vectors = vectorizer.fit_transform(cleaned_reviews)\n",
        "feature_names = vectorizer.get_feature_names()\n",
        "dense = vectors.todense()\n",
        "denselist = dense.tolist()\n",
        "\n",
        "all_keywords = []\n",
        "\n",
        "for description in denselist :\n",
        "    x= 0\n",
        "    keywords = []\n",
        "    for word in description:\n",
        "        if word>0:\n",
        "            keywords.append(feature_names[x])\n",
        "        x=x+1\n",
        "    all_keywords.append(keywords)"
      ],
      "id": "faf7f8a1"
    },
    {
      "cell_type": "code",
      "execution_count": null,
      "metadata": {
        "id": "2d1b0d84"
      },
      "outputs": [],
      "source": [
        "true_k = 20\n",
        "model = KMeans(n_clusters = true_k, init=\"k-means++\", max_iter = 100, n_init=1)\n",
        "model.fit(vectors)\n",
        "order_controls=model.cluster_centers.argsort()[:,::1]\n",
        "terms = vectorizer.get_feature_names()"
      ],
      "id": "2d1b0d84"
    },
    {
      "cell_type": "code",
      "execution_count": null,
      "metadata": {
        "id": "6164dc64"
      },
      "outputs": [],
      "source": [],
      "id": "6164dc64"
    }
  ],
  "metadata": {
    "colab": {
      "provenance": []
    },
    "kernelspec": {
      "display_name": "Python 3 (ipykernel)",
      "language": "python",
      "name": "python3"
    },
    "language_info": {
      "codemirror_mode": {
        "name": "ipython",
        "version": 3
      },
      "file_extension": ".py",
      "mimetype": "text/x-python",
      "name": "python",
      "nbconvert_exporter": "python",
      "pygments_lexer": "ipython3",
      "version": "3.9.10"
    }
  },
  "nbformat": 4,
  "nbformat_minor": 5
}